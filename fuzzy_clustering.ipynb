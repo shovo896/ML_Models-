{
 "cells": [
  {
   "cell_type": "code",
   "execution_count": 3,
   "id": "449bf1bb",
   "metadata": {},
   "outputs": [
    {
     "name": "stdout",
     "output_type": "stream",
     "text": [
      "Requirement already satisfied: scikit-learn in /Library/Frameworks/Python.framework/Versions/3.13/lib/python3.13/site-packages (1.7.2)\n",
      "Collecting scikit-fuzzy\n",
      "  Downloading scikit_fuzzy-0.5.0-py2.py3-none-any.whl.metadata (2.6 kB)\n",
      "Requirement already satisfied: numpy>=1.22.0 in /Library/Frameworks/Python.framework/Versions/3.13/lib/python3.13/site-packages (from scikit-learn) (2.3.3)\n",
      "Requirement already satisfied: scipy>=1.8.0 in /Library/Frameworks/Python.framework/Versions/3.13/lib/python3.13/site-packages (from scikit-learn) (1.16.2)\n",
      "Requirement already satisfied: joblib>=1.2.0 in /Library/Frameworks/Python.framework/Versions/3.13/lib/python3.13/site-packages (from scikit-learn) (1.5.2)\n",
      "Requirement already satisfied: threadpoolctl>=3.1.0 in /Library/Frameworks/Python.framework/Versions/3.13/lib/python3.13/site-packages (from scikit-learn) (3.6.0)\n",
      "Downloading scikit_fuzzy-0.5.0-py2.py3-none-any.whl (920 kB)\n",
      "\u001b[2K   \u001b[90m━━━━━━━━━━━━━━━━━━━━━━━━━━━━━━━━━━━━━━━━\u001b[0m \u001b[32m920.8/920.8 kB\u001b[0m \u001b[31m2.4 MB/s\u001b[0m  \u001b[33m0:00:00\u001b[0m eta \u001b[36m0:00:01\u001b[0m\n",
      "\u001b[?25hInstalling collected packages: scikit-fuzzy\n",
      "Successfully installed scikit-fuzzy-0.5.0\n"
     ]
    }
   ],
   "source": [
    "!pip install scikit-learn scikit-fuzzy\n",
    "import numpy as np\n",
    "import skfuzzy as fuzz\n",
    "import matplotlib.pyplot as plt"
   ]
  },
  {
   "cell_type": "code",
   "execution_count": 4,
   "id": "614aab53",
   "metadata": {},
   "outputs": [],
   "source": [
    "np.random.seed(0)\n",
    "center=0.5\n",
    "spread=0.1 \n",
    "data=center+spread*np.random.randn(2,100)\n",
    "data=np.clip(data,0,1)"
   ]
  },
  {
   "cell_type": "markdown",
   "id": "c7ae5e28",
   "metadata": {},
   "source": [
    "fuzzy c means parameter \n"
   ]
  },
  {
   "cell_type": "code",
   "execution_count": null,
   "id": "a65591fa",
   "metadata": {},
   "outputs": [],
   "source": [
    "n_clusters=3\n",
    "m=1.7\n",
    "error=1e-5 \n",
    "maxiter=1000"
   ]
  },
  {
   "cell_type": "code",
   "execution_count": 10,
   "id": "b930dc7e",
   "metadata": {},
   "outputs": [],
   "source": [
    "cntr,u,_,_,_,_,fpc=fuzz.cluster.cmeans(data,c=n_clusters,m=m,maxiter=maxiter,error=error,init=None)\n",
    "hard_clusters=np.argmax(u,axis=0)"
   ]
  },
  {
   "cell_type": "code",
   "execution_count": 12,
   "id": "e6d7acde",
   "metadata": {},
   "outputs": [
    {
     "name": "stdout",
     "output_type": "stream",
     "text": [
      "Amar bou duteee:\n",
      " [[0.40427945 0.44688713]\n",
      " [0.53151691 0.61555507]\n",
      " [0.57608358 0.43108735]]\n",
      "n Fuzzy membership matrix:\n",
      "[[0.07539451 0.10300807 0.0304129  0.09668829 0.07004985]\n",
      " [0.75881069 0.02781874 0.01748859 0.5400935  0.07729704]\n",
      " [0.1657948  0.86917319 0.95209851 0.36321821 0.8526531 ]]\n"
     ]
    }
   ],
   "source": [
    "print(\"Amar bou duteee:\\n\",cntr)\n",
    "print(\"n Fuzzy membership matrix:\")\n",
    "print(u[:,:5])"
   ]
  }
 ],
 "metadata": {
  "kernelspec": {
   "display_name": "Python 3",
   "language": "python",
   "name": "python3"
  },
  "language_info": {
   "codemirror_mode": {
    "name": "ipython",
    "version": 3
   },
   "file_extension": ".py",
   "mimetype": "text/x-python",
   "name": "python",
   "nbconvert_exporter": "python",
   "pygments_lexer": "ipython3",
   "version": "3.13.5"
  }
 },
 "nbformat": 4,
 "nbformat_minor": 5
}
