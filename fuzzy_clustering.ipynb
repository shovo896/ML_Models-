{
 "cells": [
  {
   "cell_type": "code",
   "execution_count": 3,
   "id": "449bf1bb",
   "metadata": {},
   "outputs": [
    {
     "name": "stdout",
     "output_type": "stream",
     "text": [
      "Requirement already satisfied: scikit-learn in /Library/Frameworks/Python.framework/Versions/3.13/lib/python3.13/site-packages (1.7.2)\n",
      "Collecting scikit-fuzzy\n",
      "  Downloading scikit_fuzzy-0.5.0-py2.py3-none-any.whl.metadata (2.6 kB)\n",
      "Requirement already satisfied: numpy>=1.22.0 in /Library/Frameworks/Python.framework/Versions/3.13/lib/python3.13/site-packages (from scikit-learn) (2.3.3)\n",
      "Requirement already satisfied: scipy>=1.8.0 in /Library/Frameworks/Python.framework/Versions/3.13/lib/python3.13/site-packages (from scikit-learn) (1.16.2)\n",
      "Requirement already satisfied: joblib>=1.2.0 in /Library/Frameworks/Python.framework/Versions/3.13/lib/python3.13/site-packages (from scikit-learn) (1.5.2)\n",
      "Requirement already satisfied: threadpoolctl>=3.1.0 in /Library/Frameworks/Python.framework/Versions/3.13/lib/python3.13/site-packages (from scikit-learn) (3.6.0)\n",
      "Downloading scikit_fuzzy-0.5.0-py2.py3-none-any.whl (920 kB)\n",
      "\u001b[2K   \u001b[90m━━━━━━━━━━━━━━━━━━━━━━━━━━━━━━━━━━━━━━━━\u001b[0m \u001b[32m920.8/920.8 kB\u001b[0m \u001b[31m2.4 MB/s\u001b[0m  \u001b[33m0:00:00\u001b[0m eta \u001b[36m0:00:01\u001b[0m\n",
      "\u001b[?25hInstalling collected packages: scikit-fuzzy\n",
      "Successfully installed scikit-fuzzy-0.5.0\n"
     ]
    }
   ],
   "source": [
    "!pip install scikit-learn scikit-fuzzy\n",
    "import numpy as np\n",
    "import skfuzzy as fuzz\n",
    "import matplotlib.pyplot as plt"
   ]
  },
  {
   "cell_type": "code",
   "execution_count": 4,
   "id": "614aab53",
   "metadata": {},
   "outputs": [],
   "source": [
    "np.random.seed(0)\n",
    "center=0.5\n",
    "spread=0.1 \n",
    "data=center+spread*np.random.randn(2,100)\n",
    "data=np.clip(data,0,1)"
   ]
  },
  {
   "cell_type": "markdown",
   "id": "c7ae5e28",
   "metadata": {},
   "source": [
    "fuzzy c means parameter \n"
   ]
  },
  {
   "cell_type": "code",
   "execution_count": null,
   "id": "a65591fa",
   "metadata": {},
   "outputs": [],
   "source": [
    "n_clusters=3\n",
    "m=1.7\n",
    "error=1e-5 \n",
    "maxiter=1020"
   ]
  },
  {
   "cell_type": "code",
   "execution_count": 10,
   "id": "b930dc7e",
   "metadata": {},
   "outputs": [],
   "source": [
    "cntr,u,_,_,_,_,fpc=fuzz.cluster.cmeans(data,c=n_clusters,m=m,maxiter=maxiter,error=error,init=None)\n",
    "hard_clusters=np.argmax(u,axis=0)"
   ]
  },
  {
   "cell_type": "code",
   "execution_count": 12,
   "id": "e6d7acde",
   "metadata": {},
   "outputs": [
    {
     "name": "stdout",
     "output_type": "stream",
     "text": [
      "Amar bou duteee:\n",
      " [[0.40427945 0.44688713]\n",
      " [0.53151691 0.61555507]\n",
      " [0.57608358 0.43108735]]\n",
      "n Fuzzy membership matrix:\n",
      "[[0.07539451 0.10300807 0.0304129  0.09668829 0.07004985]\n",
      " [0.75881069 0.02781874 0.01748859 0.5400935  0.07729704]\n",
      " [0.1657948  0.86917319 0.95209851 0.36321821 0.8526531 ]]\n"
     ]
    }
   ],
   "source": [
    "print(\"Amar bou duteee:\\n\",cntr)\n",
    "print(\"n Fuzzy membership matrix:\")\n",
    "print(u[:,:5])"
   ]
  },
  {
   "cell_type": "markdown",
   "id": "bce0512d",
   "metadata": {},
   "source": [
    "visualization "
   ]
  },
  {
   "cell_type": "code",
   "execution_count": 1,
   "id": "800aa69d",
   "metadata": {},
   "outputs": [
    {
     "ename": "NameError",
     "evalue": "name 'plt' is not defined",
     "output_type": "error",
     "traceback": [
      "\u001b[31m---------------------------------------------------------------------------\u001b[39m",
      "\u001b[31mNameError\u001b[39m                                 Traceback (most recent call last)",
      "\u001b[36mCell\u001b[39m\u001b[36m \u001b[39m\u001b[32mIn[1]\u001b[39m\u001b[32m, line 1\u001b[39m\n\u001b[32m----> \u001b[39m\u001b[32m1\u001b[39m fig,ax=\u001b[43mplt\u001b[49m.subplots(figsize=(\u001b[32m8\u001b[39m,\u001b[32m6\u001b[39m))\n\u001b[32m      2\u001b[39m \u001b[38;5;28;01mfor\u001b[39;00m i \u001b[38;5;129;01min\u001b[39;00m \u001b[38;5;28mrange\u001b[39m(n_clusters):\n\u001b[32m      3\u001b[39m     ax.scatter(data[\u001b[32m0\u001b[39m],data[\u001b[32m1\u001b[39m],c=u[i],cmap=\u001b[33m'\u001b[39m\u001b[33mcoolwarm\u001b[39m\u001b[33m'\u001b[39m,alpha=\u001b[32m0.5\u001b[39m,label=\u001b[33mf\u001b[39m\u001b[33m'\u001b[39m\u001b[33mFuzzy cluster\u001b[39m\u001b[38;5;132;01m{\u001b[39;00mi+\u001b[32m1\u001b[39m\u001b[38;5;132;01m}\u001b[39;00m\u001b[33m'\u001b[39m)\n",
      "\u001b[31mNameError\u001b[39m: name 'plt' is not defined"
     ]
    }
   ],
   "source": [
    "fig,ax=plt.subplots(figsize=(8,6))\n",
    "for i in range(n_clusters):\n",
    "    ax.scatter(data[0],data[1],c=u[i],cmap='coolwarm',alpha=0.5,label=f'Fuzzy cluster{i+1}')\n",
    "\n",
    "markers=['o','s','^']\n",
    "colors=['blue','red','orange']\n",
    "for i in range(n_clusters):\n",
    "    cluster_points=data[:,hard_clusters==i]\n",
    "    ax.scatter(cluster_points[0],cluster_points[1],c=colors[i],marker=markers[i],edgecolor='k',s=80,label='Cluster Centers')\n",
    "   \n",
    "ax.scatter(cntr[:,0],cntr[:,1],c='red',marker='X',s=200,label='Cluster Centers')\n",
    "\n",
    "ax.set_title('Fuzzy C-means')\n",
    "ax.set_xlabel('Feature 1')\n",
    "ax.set_ylabel('Feature 2')\n",
    "ax.legend(loc='upper left')\n",
    "plt.grid(True)\n",
    "plt.show()"
   ]
  },
  {
   "cell_type": "code",
   "execution_count": null,
   "id": "d6b30ceb",
   "metadata": {},
   "outputs": [],
   "source": []
  }
 ],
 "metadata": {
  "kernelspec": {
   "display_name": "Python 3",
   "language": "python",
   "name": "python3"
  },
  "language_info": {
   "codemirror_mode": {
    "name": "ipython",
    "version": 3
   },
   "file_extension": ".py",
   "mimetype": "text/x-python",
   "name": "python",
   "nbconvert_exporter": "python",
   "pygments_lexer": "ipython3",
   "version": "3.13.5"
  }
 },
 "nbformat": 4,
 "nbformat_minor": 5
}
