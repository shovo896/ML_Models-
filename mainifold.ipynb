{
 "cells": [
  {
   "cell_type": "code",
   "execution_count": null,
   "id": "e593f3bd",
   "metadata": {},
   "outputs": [],
   "source": [
    "from sklearn.datasets import load_digits\n",
    "from sklearn.manifold import TSNE\n",
    "import matplotlib.pyplot as plt\n",
    "\n",
    "digitsd=load_digits()\n",
    "X=digitsd.data\n",
    "y=digitsd.target\n",
    "X_embedded=TSNE(n_components=2,random_state=42).fit_transform(X)\n",
    "\n",
    "plt.scatter(X_embedded[:,0],X_embedded[:,1],c=y,cmap='tab10')\n",
    "plt.colorbar()\n",
    "plt.show()"
   ]
  }
 ],
 "metadata": {
  "kernelspec": {
   "display_name": "Python 3",
   "language": "python",
   "name": "python3"
  },
  "language_info": {
   "name": "python",
   "version": "3.13.5"
  }
 },
 "nbformat": 4,
 "nbformat_minor": 5
}
