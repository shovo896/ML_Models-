{
 "cells": [
  {
   "cell_type": "code",
   "execution_count": 2,
   "id": "0f042308",
   "metadata": {},
   "outputs": [
    {
     "name": "stdout",
     "output_type": "stream",
     "text": [
      "Tunned Decision Tree parameters:{} {'criterion': 'gini', 'max_depth': None, 'max_features': 6, 'min_samples_leaf': 4}\n",
      "Best score is 0.8160000000000001\n"
     ]
    }
   ],
   "source": [
    "import numpy as np\n",
    "from sklearn.datasets import make_classification\n",
    "X,y=make_classification(n_samples=1000,n_features=20,n_informative=10,n_classes=2,random_state=42)\n",
    "from scipy.stats import randint \n",
    "from sklearn.tree  import DecisionTreeClassifier\n",
    "from sklearn.model_selection import RandomizedSearchCV\n",
    "param_dist={\n",
    "    \"max_depth\":[3,None],\n",
    "    \"max_features\":randint(1,9),\n",
    "    \"min_samples_leaf\":randint(1,9),\n",
    "    \"criterion\":[\"gini\",\"entropy\"]\n",
    "}\n",
    "tree=DecisionTreeClassifier()\n",
    "tree_cv=RandomizedSearchCV(tree,param_dist,cv=5)\n",
    "tree_cv.fit(X,y)\n",
    "print(\"Tunned Decision Tree parameters:{}\",format(tree_cv.best_params_))\n",
    "print(\"Best score is {}\".format(tree_cv.best_score_))"
   ]
  },
  {
   "cell_type": "code",
   "execution_count": 3,
   "id": "ea9fc91d",
   "metadata": {},
   "outputs": [
    {
     "name": "stdout",
     "output_type": "stream",
     "text": [
      "Tuned Logistic Regression Parameters: {'C': np.float64(0.006105402296585327)}\n",
      "Best score is 0.853\n"
     ]
    }
   ],
   "source": [
    "from sklearn.linear_model import LogisticRegression\n",
    "from sklearn.model_selection import GridSearchCV\n",
    "import numpy as np\n",
    "from sklearn.datasets import make_classification\n",
    "\n",
    "X, y = make_classification(\n",
    "    n_samples=1000, n_features=20, n_informative=10, n_classes=2, random_state=42)\n",
    "\n",
    "c_space = np.logspace(-5, 8, 15)\n",
    "param_grid = {'C': c_space}\n",
    "\n",
    "logreg = LogisticRegression()\n",
    "\n",
    "logreg_cv = GridSearchCV(logreg, param_grid, cv=5)\n",
    "\n",
    "logreg_cv.fit(X, y)\n",
    "\n",
    "print(\"Tuned Logistic Regression Parameters: {}\".format(logreg_cv.best_params_))\n",
    "print(\"Best score is {}\".format(logreg_cv.best_score_))"
   ]
  }
 ],
 "metadata": {
  "kernelspec": {
   "display_name": "Python 3",
   "language": "python",
   "name": "python3"
  },
  "language_info": {
   "codemirror_mode": {
    "name": "ipython",
    "version": 3
   },
   "file_extension": ".py",
   "mimetype": "text/x-python",
   "name": "python",
   "nbconvert_exporter": "python",
   "pygments_lexer": "ipython3",
   "version": "3.13.7"
  }
 },
 "nbformat": 4,
 "nbformat_minor": 5
}
