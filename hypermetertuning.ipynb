{
 "cells": [
  {
   "cell_type": "code",
   "execution_count": null,
   "id": "0f042308",
   "metadata": {},
   "outputs": [],
   "source": [
    "import numpy as np\n",
    "from sklearn.datasets import make_classification\n",
    "X,y=make_classification(n_samples=1000,n_features=20,n_informative=10,n_classes=2,random_state=42)\n",
    "from scipy.stats import randint \n",
    "from sklearn.tree  import DecisionTreeClassifier\n",
    "from sklearn.model_selection import RandomizedSearchCV\n",
    "param_dist={\n",
    "    \"max_depth\":[3,None],\n",
    "    \"max_features\":randint(1,9),\n",
    "    \"min_samples_leaf\":randint(1,9),\n",
    "    \"criterion\":[\"gini\",\"entropy\"]\n",
    "}\n",
    "tree=DecisionTreeClassifier()\n"
   ]
  },
  {
   "cell_type": "code",
   "execution_count": null,
   "id": "ea9fc91d",
   "metadata": {},
   "outputs": [],
   "source": []
  }
 ],
 "metadata": {
  "kernelspec": {
   "display_name": "Python 3",
   "language": "python",
   "name": "python3"
  },
  "language_info": {
   "codemirror_mode": {
    "name": "ipython",
    "version": 3
   },
   "file_extension": ".py",
   "mimetype": "text/x-python",
   "name": "python",
   "nbconvert_exporter": "python",
   "pygments_lexer": "ipython3",
   "version": "3.13.7"
  }
 },
 "nbformat": 4,
 "nbformat_minor": 5
}
