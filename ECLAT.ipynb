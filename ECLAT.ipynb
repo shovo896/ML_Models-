{
 "cells": [
  {
   "cell_type": "code",
   "execution_count": 1,
   "id": "d56985c6",
   "metadata": {},
   "outputs": [],
   "source": [
    "from collections import defaultdict\n",
    "from itertools import combinations\n",
    "transactions = {\n",
    "    \"T1\": [\"Bread\", \"Butter\", \"Jam\"],\n",
    "    \"T2\": [\"Butter\", \"Coke\"],\n",
    "    \"T3\": [\"Butter\", \"Milk\"],\n",
    "    \"T4\": [\"Bread\", \"Butter\", \"Coke\"],\n",
    "    \"T5\": [\"Bread\", \"Milk\"],\n",
    "    \"T6\": [\"Butter\", \"Milk\"],\n",
    "    \"T7\": [\"Bread\", \"Milk\"],\n",
    "    \"T8\": [\"Bread\", \"Butter\", \"Milk\", \"Jam\"],\n",
    "    \"T9\": [\"Bread\", \"Butter\", \"Milk\"]\n",
    "}\n",
    "min_support = 2"
   ]
  },
  {
   "cell_type": "code",
   "execution_count": 4,
   "id": "adc680e4",
   "metadata": {},
   "outputs": [
    {
     "name": "stdout",
     "output_type": "stream",
     "text": [
      "Bread : ['T1', 'T4', 'T5', 'T7', 'T8', 'T9']\n",
      "Butter : ['T1', 'T2', 'T3', 'T4', 'T6', 'T8', 'T9']\n",
      "Jam : ['T1', 'T8']\n",
      "Coke : ['T2', 'T4']\n",
      "Milk : ['T3', 'T5', 'T6', 'T7', 'T8', 'T9']\n"
     ]
    }
   ],
   "source": [
    "def generate_tidsets(transactions):\n",
    "    item_tidset = defaultdict(set)\n",
    "    for tid, items in transactions.items():\n",
    "        for item in items:\n",
    "            item_tidset[item].add(tid)\n",
    "    return item_tidset\n",
    "\n",
    "item_tidset = generate_tidsets(transactions)\n",
    "\n",
    "for item, tidset in item_tidset.items():\n",
    "    print(item, \":\", sorted(tidset))"
   ]
  },
  {
   "cell_type": "markdown",
   "id": "2362a4ac",
   "metadata": {},
   "source": [
    "prepare a sorted list items "
   ]
  },
  {
   "cell_type": "code",
   "execution_count": 5,
   "id": "479c459c",
   "metadata": {},
   "outputs": [],
   "source": [
    "items = sorted(item_tidset.items(), key=lambda x: len(x[1]))"
   ]
  },
  {
   "cell_type": "code",
   "execution_count": null,
   "id": "4e49df48",
   "metadata": {},
   "outputs": [
    {
     "ename": "_IncompleteInputError",
     "evalue": "incomplete input (2882707489.py, line 11)",
     "output_type": "error",
     "traceback": [
      "\u001b[0;36m  Cell \u001b[0;32mIn[7], line 11\u001b[0;36m\u001b[0m\n\u001b[0;31m    if support >=min_support:\u001b[0m\n\u001b[0m                             ^\u001b[0m\n\u001b[0;31m_IncompleteInputError\u001b[0m\u001b[0;31m:\u001b[0m incomplete input\n"
     ]
    }
   ],
   "source": [
    "def elcat(prefix,items,min_support,frequent_itemsets):\n",
    "    \"\"\"\n",
    "    prefix: list of items forming the current prefix\n",
    "    items: list of tuples (item, tidset) to consider for extension\n",
    "    min_support: absolute minimum support (count)\n",
    "    frequent_itemsets: dict to collect results {frozenset(itemset): support_count}\n",
    "    \"\"\"\n",
    "    while items:\n",
    "        item,tidset=items.pop()\n",
    "        support=len(tidset)\n",
    "        if support >=min_support:\n",
    "            new_itemset=prefix+[item]\n",
    "            frequent_itemsets[frozenset(new_itemset)]=support\n",
    "            suffix=[]\n",
    "\n"
   ]
  },
  {
   "cell_type": "code",
   "execution_count": null,
   "id": "a4c5989e",
   "metadata": {},
   "outputs": [],
   "source": []
  }
 ],
 "metadata": {
  "kernelspec": {
   "display_name": "base",
   "language": "python",
   "name": "python3"
  },
  "language_info": {
   "codemirror_mode": {
    "name": "ipython",
    "version": 3
   },
   "file_extension": ".py",
   "mimetype": "text/x-python",
   "name": "python",
   "nbconvert_exporter": "python",
   "pygments_lexer": "ipython3",
   "version": "3.13.5"
  }
 },
 "nbformat": 4,
 "nbformat_minor": 5
}
