{
 "cells": [
  {
   "cell_type": "code",
   "execution_count": null,
   "id": "d56985c6",
   "metadata": {},
   "outputs": [],
   "source": [
    "from collections import defaultdict\n",
    "from itertools import combinations\n",
    "transactions = {\n",
    "    \"T1\": [\"Bread\", \"Butter\", \"Jam\"],\n",
    "    \"T2\": [\"Butter\", \"Coke\"],\n",
    "    \"T3\": [\"Butter\", \"Milk\"],\n",
    "    \"T4\": [\"Bread\", \"Butter\", \"Coke\"],\n",
    "    \"T5\": [\"Bread\", \"Milk\"],\n",
    "    \"T6\": [\"Butter\", \"Milk\"],\n",
    "    \"T7\": [\"Bread\", \"Milk\"],\n",
    "    \"T8\": [\"Bread\", \"Butter\", \"Milk\", \"Jam\"],\n",
    "    \"T9\": [\"Bread\", \"Butter\", \"Milk\"]\n",
    "}\n",
    "min_support = 2"
   ]
  }
 ],
 "metadata": {
  "kernelspec": {
   "display_name": "base",
   "language": "python",
   "name": "python3"
  },
  "language_info": {
   "name": "python",
   "version": "3.13.5"
  }
 },
 "nbformat": 4,
 "nbformat_minor": 5
}
