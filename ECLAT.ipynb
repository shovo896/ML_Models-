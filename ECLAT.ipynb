{
 "cells": [
  {
   "cell_type": "code",
   "execution_count": 1,
   "id": "d56985c6",
   "metadata": {},
   "outputs": [],
   "source": [
    "from collections import defaultdict\n",
    "from itertools import combinations\n",
    "transactions = {\n",
    "    \"T1\": [\"Bread\", \"Butter\", \"Jam\"],\n",
    "    \"T2\": [\"Butter\", \"Coke\"],\n",
    "    \"T3\": [\"Butter\", \"Milk\"],\n",
    "    \"T4\": [\"Bread\", \"Butter\", \"Coke\"],\n",
    "    \"T5\": [\"Bread\", \"Milk\"],\n",
    "    \"T6\": [\"Butter\", \"Milk\"],\n",
    "    \"T7\": [\"Bread\", \"Milk\"],\n",
    "    \"T8\": [\"Bread\", \"Butter\", \"Milk\", \"Jam\"],\n",
    "    \"T9\": [\"Bread\", \"Butter\", \"Milk\"]\n",
    "}\n",
    "min_support = 2"
   ]
  },
  {
   "cell_type": "code",
   "execution_count": 4,
   "id": "adc680e4",
   "metadata": {},
   "outputs": [
    {
     "name": "stdout",
     "output_type": "stream",
     "text": [
      "Bread : ['T1', 'T4', 'T5', 'T7', 'T8', 'T9']\n",
      "Butter : ['T1', 'T2', 'T3', 'T4', 'T6', 'T8', 'T9']\n",
      "Jam : ['T1', 'T8']\n",
      "Coke : ['T2', 'T4']\n",
      "Milk : ['T3', 'T5', 'T6', 'T7', 'T8', 'T9']\n"
     ]
    }
   ],
   "source": [
    "def generate_tidsets(transactions):\n",
    "    item_tidset = defaultdict(set)\n",
    "    for tid, items in transactions.items():\n",
    "        for item in items:\n",
    "            item_tidset[item].add(tid)\n",
    "    return item_tidset\n",
    "\n",
    "item_tidset = generate_tidsets(transactions)\n",
    "\n",
    "for item, tidset in item_tidset.items():\n",
    "    print(item, \":\", sorted(tidset))"
   ]
  },
  {
   "cell_type": "markdown",
   "id": "2362a4ac",
   "metadata": {},
   "source": [
    "prepare a sorted list items "
   ]
  },
  {
   "cell_type": "code",
   "execution_count": 5,
   "id": "479c459c",
   "metadata": {},
   "outputs": [],
   "source": [
    "items = sorted(item_tidset.items(), key=lambda x: len(x[1]))"
   ]
  },
  {
   "cell_type": "code",
   "execution_count": 9,
   "id": "4e49df48",
   "metadata": {},
   "outputs": [],
   "source": [
    "def elcat(prefix,items,min_support,frequent_itemsets):\n",
    "    \"\"\"\n",
    "    prefix: list of items forming the current prefix\n",
    "    items: list of tuples (item, tidset) to consider for extension\n",
    "    min_support: absolute minimum support (count)\n",
    "    frequent_itemsets: dict to collect results {frozenset(itemset): support_count}\n",
    "    \"\"\"\n",
    "    while items:\n",
    "        item,tidset=items.pop()\n",
    "        support=len(tidset)\n",
    "        if support >=min_support:\n",
    "            new_itemset=prefix+[item]\n",
    "            frequent_itemsets[frozenset(new_itemset)]=support\n",
    "            suffix=[]\n",
    "\n",
    "            for other_item,other_tidset in items:\n",
    "                intersecrtions=tidset & other_tidset\n",
    "                if len(intersecrtions) >= min_support:\n",
    "                    suffix.append(other_item,intersecrtions)\n",
    "\n",
    "            suffix=sorted(suffix,key=lambda x:len(x[1]))\n",
    "            eclat(new_itemset,suffix,min_support,frequent_itemsets)\n",
    "\n",
    "\n"
   ]
  },
  {
   "cell_type": "markdown",
   "id": "5a104835",
   "metadata": {},
   "source": [
    "call the recursive function "
   ]
  },
  {
   "cell_type": "code",
   "execution_count": 11,
   "id": "a4c5989e",
   "metadata": {},
   "outputs": [
    {
     "ename": "NameError",
     "evalue": "name 'eclat' is not defined",
     "output_type": "error",
     "traceback": [
      "\u001b[0;31m---------------------------------------------------------------------------\u001b[0m",
      "\u001b[0;31mNameError\u001b[0m                                 Traceback (most recent call last)",
      "Cell \u001b[0;32mIn[11], line 4\u001b[0m\n\u001b[1;32m      2\u001b[0m items\u001b[38;5;241m=\u001b[39m\u001b[38;5;28msorted\u001b[39m(item_tidset\u001b[38;5;241m.\u001b[39mitems(),key\u001b[38;5;241m=\u001b[39m\u001b[38;5;28;01mlambda\u001b[39;00m x:\u001b[38;5;28mlen\u001b[39m(x[\u001b[38;5;241m1\u001b[39m]))\n\u001b[1;32m      3\u001b[0m frequent_itemsets\u001b[38;5;241m=\u001b[39m{}\n\u001b[0;32m----> 4\u001b[0m eclat([],items,min_support,frequent_itemsets)\n\u001b[1;32m      6\u001b[0m \u001b[38;5;28mprint\u001b[39m(\u001b[38;5;124m\"\u001b[39m\u001b[38;5;124mfrequent itemsets(as list) -> support count\u001b[39m\u001b[38;5;124m\"\u001b[39m)\n\u001b[1;32m      7\u001b[0m \u001b[38;5;28;01mfor\u001b[39;00m itemset,support \u001b[38;5;129;01min\u001b[39;00m \u001b[38;5;28msorted\u001b[39m(frequent_itemsets\u001b[38;5;241m.\u001b[39mitems(),key\u001b[38;5;241m=\u001b[39m\u001b[38;5;28;01mlambda\u001b[39;00m x:(\u001b[38;5;241m-\u001b[39m\u001b[38;5;28mlen\u001b[39m(x[\u001b[38;5;241m0\u001b[39m],\u001b[38;5;241m-\u001b[39mx[\u001b[38;5;241m-\u001b[39m\u001b[38;5;241m1\u001b[39m],\u001b[38;5;28msorted\u001b[39m(\u001b[38;5;28mlist\u001b[39m(x[\u001b[38;5;241m0\u001b[39m]))))):\n",
      "\u001b[0;31mNameError\u001b[0m: name 'eclat' is not defined"
     ]
    }
   ],
   "source": [
    "item_tidset=generate_tidsets(transactions)\n",
    "items=sorted(item_tidset.items(),key=lambda x:len(x[1]))\n",
    "frequent_itemsets={}\n",
    "eclat([],items,min_support,frequent_itemsets)\n",
    "\n",
    "print(\"frequent itemsets(as list) -> support count\")\n",
    "for itemset,support in sorted(frequent_itemsets.items(),key=lambda x:(-len(x[0],-x[-1],sorted(list(x[0]))))):\n",
    "    print(list(itemset),\"=>\",support)\n"
   ]
  },
  {
   "cell_type": "code",
   "execution_count": null,
   "id": "81e4fa29",
   "metadata": {},
   "outputs": [],
   "source": []
  }
 ],
 "metadata": {
  "kernelspec": {
   "display_name": "base",
   "language": "python",
   "name": "python3"
  },
  "language_info": {
   "codemirror_mode": {
    "name": "ipython",
    "version": 3
   },
   "file_extension": ".py",
   "mimetype": "text/x-python",
   "name": "python",
   "nbconvert_exporter": "python",
   "pygments_lexer": "ipython3",
   "version": "3.13.5"
  }
 },
 "nbformat": 4,
 "nbformat_minor": 5
}
