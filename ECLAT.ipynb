{
 "cells": [
  {
   "cell_type": "code",
   "execution_count": 1,
   "id": "d56985c6",
   "metadata": {},
   "outputs": [],
   "source": [
    "from collections import defaultdict\n",
    "from itertools import combinations\n",
    "transactions = {\n",
    "    \"T1\": [\"Bread\", \"Butter\", \"Jam\"],\n",
    "    \"T2\": [\"Butter\", \"Coke\"],\n",
    "    \"T3\": [\"Butter\", \"Milk\"],\n",
    "    \"T4\": [\"Bread\", \"Butter\", \"Coke\"],\n",
    "    \"T5\": [\"Bread\", \"Milk\"],\n",
    "    \"T6\": [\"Butter\", \"Milk\"],\n",
    "    \"T7\": [\"Bread\", \"Milk\"],\n",
    "    \"T8\": [\"Bread\", \"Butter\", \"Milk\", \"Jam\"],\n",
    "    \"T9\": [\"Bread\", \"Butter\", \"Milk\"]\n",
    "}\n",
    "min_support = 2"
   ]
  },
  {
   "cell_type": "code",
   "execution_count": null,
   "id": "47d9181c",
   "metadata": {},
   "outputs": [],
   "source": []
  }
 ],
 "metadata": {
  "kernelspec": {
   "display_name": "base",
   "language": "python",
   "name": "python3"
  },
  "language_info": {
   "codemirror_mode": {
    "name": "ipython",
    "version": 3
   },
   "file_extension": ".py",
   "mimetype": "text/x-python",
   "name": "python",
   "nbconvert_exporter": "python",
   "pygments_lexer": "ipython3",
   "version": "3.13.5"
  }
 },
 "nbformat": 4,
 "nbformat_minor": 5
}
