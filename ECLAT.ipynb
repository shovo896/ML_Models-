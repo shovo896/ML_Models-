{
 "cells": [
  {
   "cell_type": "code",
   "execution_count": 1,
   "id": "d56985c6",
   "metadata": {},
   "outputs": [],
   "source": [
    "from collections import defaultdict\n",
    "from itertools import combinations\n",
    "transactions = {\n",
    "    \"T1\": [\"Bread\", \"Butter\", \"Jam\"],\n",
    "    \"T2\": [\"Butter\", \"Coke\"],\n",
    "    \"T3\": [\"Butter\", \"Milk\"],\n",
    "    \"T4\": [\"Bread\", \"Butter\", \"Coke\"],\n",
    "    \"T5\": [\"Bread\", \"Milk\"],\n",
    "    \"T6\": [\"Butter\", \"Milk\"],\n",
    "    \"T7\": [\"Bread\", \"Milk\"],\n",
    "    \"T8\": [\"Bread\", \"Butter\", \"Milk\", \"Jam\"],\n",
    "    \"T9\": [\"Bread\", \"Butter\", \"Milk\"]\n",
    "}\n",
    "min_support = 2"
   ]
  },
  {
   "cell_type": "code",
   "execution_count": 4,
   "id": "adc680e4",
   "metadata": {},
   "outputs": [
    {
     "name": "stdout",
     "output_type": "stream",
     "text": [
      "Bread : ['T1', 'T4', 'T5', 'T7', 'T8', 'T9']\n",
      "Butter : ['T1', 'T2', 'T3', 'T4', 'T6', 'T8', 'T9']\n",
      "Jam : ['T1', 'T8']\n",
      "Coke : ['T2', 'T4']\n",
      "Milk : ['T3', 'T5', 'T6', 'T7', 'T8', 'T9']\n"
     ]
    }
   ],
   "source": [
    "def generate_tidsets(transactions):\n",
    "    item_tidset = defaultdict(set)\n",
    "    for tid, items in transactions.items():\n",
    "        for item in items:\n",
    "            item_tidset[item].add(tid)\n",
    "    return item_tidset\n",
    "\n",
    "item_tidset = generate_tidsets(transactions)\n",
    "\n",
    "for item, tidset in item_tidset.items():\n",
    "    print(item, \":\", sorted(tidset))"
   ]
  },
  {
   "cell_type": "markdown",
   "id": "2362a4ac",
   "metadata": {},
   "source": [
    "prepare a sorted list items "
   ]
  },
  {
   "cell_type": "code",
   "execution_count": 5,
   "id": "479c459c",
   "metadata": {},
   "outputs": [],
   "source": [
    "items = sorted(item_tidset.items(), key=lambda x: len(x[1]))"
   ]
  }
 ],
 "metadata": {
  "kernelspec": {
   "display_name": "base",
   "language": "python",
   "name": "python3"
  },
  "language_info": {
   "codemirror_mode": {
    "name": "ipython",
    "version": 3
   },
   "file_extension": ".py",
   "mimetype": "text/x-python",
   "name": "python",
   "nbconvert_exporter": "python",
   "pygments_lexer": "ipython3",
   "version": "3.13.5"
  }
 },
 "nbformat": 4,
 "nbformat_minor": 5
}
