{
 "cells": [
  {
   "cell_type": "code",
   "execution_count": null,
   "id": "d19b7984",
   "metadata": {},
   "outputs": [],
   "source": [
    "import numpy as np \n",
    "import matplotlib.pyplot as plt \n",
    "from sklearn.datasets import make_classification\n",
    "from sklearn.neighbors import KNeighborsClassifier\n",
    "X,y=make_classification(n_sampoles=200,n_features=2,n_informative=2,n_redundant=0,n_clusters_per_class=1,random_state=42)\n",
    "x_min,x_max=X[:,0].min()-1,X[:,0].max()+1\n",
    "\n"
   ]
  }
 ],
 "metadata": {
  "language_info": {
   "name": "python"
  }
 },
 "nbformat": 4,
 "nbformat_minor": 5
}
