{
 "cells": [
  {
   "cell_type": "code",
   "execution_count": null,
   "id": "3b4fb295",
   "metadata": {},
   "outputs": [],
   "source": [
    "import pandas as pd \n",
    "import numpy as np \n",
    "import matplotlib.pyplot as plt \n",
    "from statsmodels.tsa.stattols import addfuller \n",
    "from statsmodels.graphics.tsaplots import plot_acf,plot_pacf \n",
    "import warnings\n",
    "import itertools \n",
    "warnings.filterwarnings('ignore')"
   ]
  }
 ],
 "metadata": {
  "kernelspec": {
   "display_name": "Python 3",
   "language": "python",
   "name": "python3"
  },
  "language_info": {
   "name": "python",
   "version": "3.13.6"
  }
 },
 "nbformat": 4,
 "nbformat_minor": 5
}
