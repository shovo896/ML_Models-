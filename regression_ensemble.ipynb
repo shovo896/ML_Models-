{
 "cells": [
  {
   "cell_type": "code",
   "execution_count": 1,
   "id": "e82be474",
   "metadata": {},
   "outputs": [],
   "source": [
    "import numpy as np\n",
    "from sklearn.tree import DecisionTreeClassifier\n",
    "from sklearn.datasets import load_digits\n",
    "from sklearn.model_selection import train_test_split\n",
    "from sklearn.metrics import accuracy_score"
   ]
  },
  {
   "cell_type": "markdown",
   "id": "fedf2952",
   "metadata": {},
   "source": [
    "define BaggingClassifier Class "
   ]
  },
  {
   "cell_type": "code",
   "execution_count": 2,
   "id": "58898d49",
   "metadata": {},
   "outputs": [],
   "source": [
    "import numpy as np\n",
    "\n",
    "\n",
    "class BaggingClassifier:\n",
    "    def __init__(self, base_classifier, n_estimators):\n",
    "        self.base_classifier = base_classifier\n",
    "        self.n_estimators = n_estimators\n",
    "        self.classifiers = []"
   ]
  },
  {
   "cell_type": "code",
   "execution_count": 3,
   "id": "115cc1a0",
   "metadata": {},
   "outputs": [],
   "source": [
    "def fit(self, X, y):\n",
    "    for _ in range(self.n_estimators):\n",
    "        indices = np.random.choice(len(X), len(X), replace=True)\n",
    "        X_sampled, y_sampled = X[indices], y[indices]\n",
    "        clf = self.base_classifier.__class__()\n",
    "        clf.fit(X_sampled, y_sampled)\n",
    "        self.classifiers.append(clf)\n",
    "    return self.classifiers"
   ]
  },
  {
   "cell_type": "code",
   "execution_count": 4,
   "id": "d563d59a",
   "metadata": {},
   "outputs": [],
   "source": [
    "def predict(self, X):\n",
    "    predictions = np.array([clf.predict(X) for clf in self.classifiers])\n",
    "    majority_votes = np.apply_along_axis(\n",
    "        lambda x: np.bincount(x).argmax(), axis=0, arr=predictions)\n",
    "    return majority_votes"
   ]
  },
  {
   "cell_type": "code",
   "execution_count": 5,
   "id": "576ff5a9",
   "metadata": {},
   "outputs": [],
   "source": [
    "digits = load_digits()\n",
    "X, y = digits.data, digits.target\n",
    "\n",
    "X_train, X_test, y_train, y_test = train_test_split(\n",
    "    X, y, test_size=0.2, random_state=42)"
   ]
  }
 ],
 "metadata": {
  "kernelspec": {
   "display_name": "Python 3",
   "language": "python",
   "name": "python3"
  },
  "language_info": {
   "codemirror_mode": {
    "name": "ipython",
    "version": 3
   },
   "file_extension": ".py",
   "mimetype": "text/x-python",
   "name": "python",
   "nbconvert_exporter": "python",
   "pygments_lexer": "ipython3",
   "version": "3.13.7"
  }
 },
 "nbformat": 4,
 "nbformat_minor": 5
}
