{
 "cells": [
  {
   "cell_type": "code",
   "execution_count": 1,
   "id": "e82be474",
   "metadata": {},
   "outputs": [],
   "source": [
    "import numpy as np\n",
    "from sklearn.tree import DecisionTreeClassifier\n",
    "from sklearn.datasets import load_digits\n",
    "from sklearn.model_selection import train_test_split\n",
    "from sklearn.metrics import accuracy_score"
   ]
  },
  {
   "cell_type": "markdown",
   "id": "fedf2952",
   "metadata": {},
   "source": [
    "define BaggingClassifier Class "
   ]
  },
  {
   "cell_type": "code",
   "execution_count": 2,
   "id": "58898d49",
   "metadata": {},
   "outputs": [],
   "source": [
    "import numpy as np\n",
    "\n",
    "\n",
    "class BaggingClassifier:\n",
    "    def __init__(self, base_classifier, n_estimators):\n",
    "        self.base_classifier = base_classifier\n",
    "        self.n_estimators = n_estimators\n",
    "        self.classifiers = []"
   ]
  },
  {
   "cell_type": "code",
   "execution_count": 3,
   "id": "115cc1a0",
   "metadata": {},
   "outputs": [],
   "source": [
    "def fit(self, X, y):\n",
    "    for _ in range(self.n_estimators):\n",
    "        indices = np.random.choice(len(X), len(X), replace=True)\n",
    "        X_sampled, y_sampled = X[indices], y[indices]\n",
    "        clf = self.base_classifier.__class__()\n",
    "        clf.fit(X_sampled, y_sampled)\n",
    "        self.classifiers.append(clf)\n",
    "    return self.classifiers"
   ]
  },
  {
   "cell_type": "code",
   "execution_count": 4,
   "id": "d563d59a",
   "metadata": {},
   "outputs": [],
   "source": [
    "def predict(self, X):\n",
    "    predictions = np.array([clf.predict(X) for clf in self.classifiers])\n",
    "    majority_votes = np.apply_along_axis(\n",
    "        lambda x: np.bincount(x).argmax(), axis=0, arr=predictions)\n",
    "    return majority_votes"
   ]
  },
  {
   "cell_type": "code",
   "execution_count": 5,
   "id": "576ff5a9",
   "metadata": {},
   "outputs": [],
   "source": [
    "digits = load_digits()\n",
    "X, y = digits.data, digits.target\n",
    "\n",
    "X_train, X_test, y_train, y_test = train_test_split(\n",
    "    X, y, test_size=0.2, random_state=42)"
   ]
  },
  {
   "cell_type": "code",
   "execution_count": 7,
   "id": "c2b72066",
   "metadata": {},
   "outputs": [
    {
     "ename": "AttributeError",
     "evalue": "'BaggingClassifier' object has no attribute 'fit'",
     "output_type": "error",
     "traceback": [
      "\u001b[31m---------------------------------------------------------------------------\u001b[39m",
      "\u001b[31mAttributeError\u001b[39m                            Traceback (most recent call last)",
      "\u001b[36mCell\u001b[39m\u001b[36m \u001b[39m\u001b[32mIn[7]\u001b[39m\u001b[32m, line 3\u001b[39m\n\u001b[32m      1\u001b[39m base_clf = DecisionTreeClassifier()\n\u001b[32m      2\u001b[39m model = BaggingClassifier(base_classifier=base_clf, n_estimators=\u001b[32m10\u001b[39m)\n\u001b[32m----> \u001b[39m\u001b[32m3\u001b[39m \u001b[43mmodel\u001b[49m\u001b[43m.\u001b[49m\u001b[43mfit\u001b[49m(X_train, y_train)\n\u001b[32m      5\u001b[39m y_pred = model.predict(X_test)\n\u001b[32m      6\u001b[39m \u001b[38;5;28mprint\u001b[39m(\u001b[33m\"\u001b[39m\u001b[33mAccuracy:\u001b[39m\u001b[33m\"\u001b[39m, accuracy_score(y_test, y_pred))\n",
      "\u001b[31mAttributeError\u001b[39m: 'BaggingClassifier' object has no attribute 'fit'"
     ]
    }
   ],
   "source": [
    "base_clf = DecisionTreeClassifier()\n",
    "model = BaggingClassifier(base_classifier=base_clf, n_estimators=10)\n",
    "model.fit(X_train, y_train)\n",
    "\n",
    "y_pred = model.predict(X_test)\n",
    "print(\"Accuracy:\", accuracy_score(y_test, y_pred))"
   ]
  },
  {
   "cell_type": "code",
   "execution_count": 8,
   "id": "44ce1f79",
   "metadata": {},
   "outputs": [
    {
     "name": "stdout",
     "output_type": "stream",
     "text": [
      "Accuracy: 0.9361111111111111\n"
     ]
    }
   ],
   "source": [
    "from sklearn.tree import DecisionTreeClassifier\n",
    "from sklearn.ensemble import BaggingClassifier\n",
    "from sklearn.metrics import accuracy_score\n",
    "\n",
    "# Create base classifier\n",
    "base_clf = DecisionTreeClassifier()\n",
    "\n",
    "# Create BaggingClassifier\n",
    "model = BaggingClassifier(estimator=base_clf, n_estimators=10)\n",
    "\n",
    "# Train the model\n",
    "model.fit(X_train, y_train)\n",
    "\n",
    "# Make predictions\n",
    "y_pred = model.predict(X_test)\n",
    "\n",
    "# Calculate and print accuracy\n",
    "print(\"Accuracy:\", accuracy_score(y_test, y_pred))\n"
   ]
  }
 ],
 "metadata": {
  "kernelspec": {
   "display_name": "Python 3",
   "language": "python",
   "name": "python3"
  },
  "language_info": {
   "codemirror_mode": {
    "name": "ipython",
    "version": 3
   },
   "file_extension": ".py",
   "mimetype": "text/x-python",
   "name": "python",
   "nbconvert_exporter": "python",
   "pygments_lexer": "ipython3",
   "version": "3.13.7"
  }
 },
 "nbformat": 4,
 "nbformat_minor": 5
}
