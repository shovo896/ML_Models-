{
 "cells": [
  {
   "cell_type": "code",
   "execution_count": null,
   "id": "4f7f05e6",
   "metadata": {},
   "outputs": [],
   "source": [
    "import pandas as pd \n",
    "data={'Color:'['Red','Blue','Green','Blue']}\n",
    "df=pd.DataFrame(data)\n",
    "df_enforced=pd.get_dummies(df,columns=['Color'],prefix='Color')\n",
    "print(df_encoded)\n"
   ]
  }
 ],
 "metadata": {
  "language_info": {
   "name": "python"
  }
 },
 "nbformat": 4,
 "nbformat_minor": 5
}
