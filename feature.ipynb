{
 "cells": [
  {
   "cell_type": "code",
   "execution_count": 2,
   "id": "4f7f05e6",
   "metadata": {},
   "outputs": [
    {
     "name": "stdout",
     "output_type": "stream",
     "text": [
      "   Color_Blue  Color_Green  Color_Red\n",
      "0       False        False       True\n",
      "1        True        False      False\n",
      "2       False         True      False\n",
      "3        True        False      False\n"
     ]
    }
   ],
   "source": [
    "import pandas as pd \n",
    "\n",
    "# Correct dictionary syntax\n",
    "data = {'Color': ['Red', 'Blue', 'Green', 'Blue']}\n",
    "\n",
    "# Create DataFrame\n",
    "df = pd.DataFrame(data)\n",
    "\n",
    "# One-hot encode the 'Color' column\n",
    "df_encoded = pd.get_dummies(df, columns=['Color'], prefix='Color')\n",
    "\n",
    "# Print the result\n",
    "print(df_encoded)\n"
   ]
  },
  {
   "cell_type": "code",
   "execution_count": 3,
   "id": "0697c585",
   "metadata": {},
   "outputs": [
    {
     "name": "stdout",
     "output_type": "stream",
     "text": [
      "   Age Age_Group\n",
      "0   23     21-40\n",
      "1   24     21-40\n",
      "2   25     21-40\n",
      "3   27     21-40\n",
      "4   29     21-40\n",
      "5   55     41-60\n",
      "6   98       61+\n"
     ]
    }
   ],
   "source": [
    "import pandas as pd \n",
    "data={'Age': [23,24,25,27,29,55,98]}\n",
    "df=pd.DataFrame(data)\n",
    "bins=[0,20,40,60,100]\n",
    "labels=['0-20','21-40','41-60','61+']\n",
    "df['Age_Group']=pd.cut(df['Age'],bins=bins,labels=labels,right=False)\n",
    "print(df)"
   ]
  }
 ],
 "metadata": {
  "kernelspec": {
   "display_name": "Python 3",
   "language": "python",
   "name": "python3"
  },
  "language_info": {
   "codemirror_mode": {
    "name": "ipython",
    "version": 3
   },
   "file_extension": ".py",
   "mimetype": "text/x-python",
   "name": "python",
   "nbconvert_exporter": "python",
   "pygments_lexer": "ipython3",
   "version": "3.13.7"
  }
 },
 "nbformat": 4,
 "nbformat_minor": 5
}
