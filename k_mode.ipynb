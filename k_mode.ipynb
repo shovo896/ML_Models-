{
 "cells": [
  {
   "cell_type": "code",
   "execution_count": 1,
   "id": "a870eeda",
   "metadata": {},
   "outputs": [],
   "source": [
    "import numpy as np\n",
    "import pandas as pd\n",
    "\n",
    "data = np.array([\n",
    "    ['A', 'B', 'C'],\n",
    "    ['B', 'C', 'A'],\n",
    "    ['C', 'A', 'B'],\n",
    "    ['A', 'C', 'B'],\n",
    "    ['A', 'A', 'B']\n",
    "])"
   ]
  },
  {
   "cell_type": "markdown",
   "id": "133889ae",
   "metadata": {},
   "source": [
    "set number of clusters "
   ]
  },
  {
   "cell_type": "code",
   "execution_count": 2,
   "id": "0f44b2a4",
   "metadata": {},
   "outputs": [],
   "source": [
    "k=2 "
   ]
  },
  {
   "cell_type": "code",
   "execution_count": 7,
   "id": "4615a589",
   "metadata": {},
   "outputs": [],
   "source": [
    "np.random.seed(0)\n",
    "modes=data[np.random.choice(data.shape[0],k,replace=False)]"
   ]
  },
  {
   "cell_type": "code",
   "execution_count": 8,
   "id": "0342b27f",
   "metadata": {},
   "outputs": [],
   "source": [
    "clusters = np.zeros(data.shape[0], dtype=int)\n",
    "\n",
    "for _ in range(10):  \n",
    "    for i, point in enumerate(data):\n",
    "        distances = [np.sum(point != mode) for mode in modes]\n",
    "        clusters[i] = np.argmin(distances)"
   ]
  }
 ],
 "metadata": {
  "kernelspec": {
   "display_name": "Python 3",
   "language": "python",
   "name": "python3"
  },
  "language_info": {
   "codemirror_mode": {
    "name": "ipython",
    "version": 3
   },
   "file_extension": ".py",
   "mimetype": "text/x-python",
   "name": "python",
   "nbconvert_exporter": "python",
   "pygments_lexer": "ipython3",
   "version": "3.13.5"
  }
 },
 "nbformat": 4,
 "nbformat_minor": 5
}
