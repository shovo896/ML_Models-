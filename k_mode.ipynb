{
 "cells": [
  {
   "cell_type": "code",
   "execution_count": 1,
   "id": "a870eeda",
   "metadata": {},
   "outputs": [],
   "source": [
    "import numpy as np\n",
    "import pandas as pd\n",
    "\n",
    "data = np.array([\n",
    "    ['A', 'B', 'C'],\n",
    "    ['B', 'C', 'A'],\n",
    "    ['C', 'A', 'B'],\n",
    "    ['A', 'C', 'B'],\n",
    "    ['A', 'A', 'B']\n",
    "])"
   ]
  },
  {
   "cell_type": "markdown",
   "id": "133889ae",
   "metadata": {},
   "source": [
    "set number of clusters "
   ]
  },
  {
   "cell_type": "code",
   "execution_count": 2,
   "id": "0f44b2a4",
   "metadata": {},
   "outputs": [],
   "source": [
    "k=2 "
   ]
  },
  {
   "cell_type": "code",
   "execution_count": 3,
   "id": "4615a589",
   "metadata": {},
   "outputs": [],
   "source": [
    "np.random.seed(0)"
   ]
  },
  {
   "cell_type": "code",
   "execution_count": 4,
   "id": "0342b27f",
   "metadata": {},
   "outputs": [
    {
     "ename": "NameError",
     "evalue": "name 'modes' is not defined",
     "output_type": "error",
     "traceback": [
      "\u001b[31m---------------------------------------------------------------------------\u001b[39m",
      "\u001b[31mNameError\u001b[39m                                 Traceback (most recent call last)",
      "\u001b[36mCell\u001b[39m\u001b[36m \u001b[39m\u001b[32mIn[4]\u001b[39m\u001b[32m, line 5\u001b[39m\n\u001b[32m      3\u001b[39m \u001b[38;5;28;01mfor\u001b[39;00m _ \u001b[38;5;129;01min\u001b[39;00m \u001b[38;5;28mrange\u001b[39m(\u001b[32m10\u001b[39m):\n\u001b[32m      4\u001b[39m     \u001b[38;5;28;01mfor\u001b[39;00m i ,point \u001b[38;5;129;01min\u001b[39;00m \u001b[38;5;28menumerate\u001b[39m(data):\n\u001b[32m----> \u001b[39m\u001b[32m5\u001b[39m         distances=[np.sum(point !=mode) \u001b[38;5;28;01mfor\u001b[39;00m mode \u001b[38;5;129;01min\u001b[39;00m \u001b[43mmodes\u001b[49m]\n\u001b[32m      6\u001b[39m         clusters[i]=np.argmin(distances)\n",
      "\u001b[31mNameError\u001b[39m: name 'modes' is not defined"
     ]
    }
   ],
   "source": [
    "clusters=np.zeros(data.shape[0],dtype=int)\n",
    "\n",
    "for _ in range(10):\n",
    "    for i ,point in enumerate(data):\n",
    "        distances=[np.sum(point !=mode) for mode in modes]\n",
    "        clusters[i]=np.argmin(distances)"
   ]
  }
 ],
 "metadata": {
  "kernelspec": {
   "display_name": "Python 3",
   "language": "python",
   "name": "python3"
  },
  "language_info": {
   "codemirror_mode": {
    "name": "ipython",
    "version": 3
   },
   "file_extension": ".py",
   "mimetype": "text/x-python",
   "name": "python",
   "nbconvert_exporter": "python",
   "pygments_lexer": "ipython3",
   "version": "3.13.5"
  }
 },
 "nbformat": 4,
 "nbformat_minor": 5
}
