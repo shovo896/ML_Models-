{
 "cells": [
  {
   "cell_type": "code",
   "execution_count": 1,
   "id": "2d8c94c0",
   "metadata": {},
   "outputs": [],
   "source": [
    "import pandas as pd \n",
    "import numpy as np\n",
    "import matplotlib.pyplot as plt\n",
    "from sklearn.decomposition import PCA\n",
    "from sklearn.cluster import AgglomerativeClustering\n",
    "from sklearn.preprocessing import StandardScaler,normalize\n",
    "from sklearn.metrics import silhouette_score\n",
    "import scipy.cluster.hierarchy as shc "
   ]
  },
  {
   "cell_type": "markdown",
   "id": "d46336e6",
   "metadata": {},
   "source": [
    "Load and cleaning data "
   ]
  },
  {
   "cell_type": "code",
   "execution_count": 2,
   "id": "2b0f79bb",
   "metadata": {},
   "outputs": [
    {
     "name": "stdout",
     "output_type": "stream",
     "text": [
      "       BALANCE  BALANCE_FREQUENCY  ...  PRC_FULL_PAYMENT  TENURE\n",
      "0    40.900749           0.818182  ...          0.000000      12\n",
      "1  3202.467416           0.909091  ...          0.222222      12\n",
      "2  2495.148862           1.000000  ...          0.000000      12\n",
      "3  1666.670542           0.636364  ...          0.000000      12\n",
      "4   817.714335           1.000000  ...          0.000000      12\n",
      "\n",
      "[5 rows x 17 columns]\n"
     ]
    }
   ],
   "source": [
    "data=pd.read_csv('CC-GENERAL.csv')\n",
    "data.drop(['CUST_ID'],axis=1,inplace=True)\n",
    "data.fillna(data.mean(),inplace=True)\n",
    "print(data.head())"
   ]
  }
 ],
 "metadata": {
  "kernelspec": {
   "display_name": "Python 3",
   "language": "python",
   "name": "python3"
  },
  "language_info": {
   "codemirror_mode": {
    "name": "ipython",
    "version": 3
   },
   "file_extension": ".py",
   "mimetype": "text/x-python",
   "name": "python",
   "nbconvert_exporter": "python",
   "pygments_lexer": "ipython3",
   "version": "3.13.5"
  }
 },
 "nbformat": 4,
 "nbformat_minor": 5
}
