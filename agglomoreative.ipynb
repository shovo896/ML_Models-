{
 "cells": [
  {
   "cell_type": "code",
   "execution_count": 1,
   "id": "2d8c94c0",
   "metadata": {},
   "outputs": [],
   "source": [
    "import pandas as pd \n",
    "import numpy as np\n",
    "import matplotlib.pyplot as plt\n",
    "from sklearn.decomposition import PCA\n",
    "from sklearn.cluster import AgglomerativeClustering\n",
    "from sklearn.preprocessing import StandardScaler,normalize\n",
    "from sklearn.metrics import silhouette_score\n",
    "import scipy.cluster.hierarchy as shc "
   ]
  },
  {
   "cell_type": "markdown",
   "id": "d46336e6",
   "metadata": {},
   "source": [
    "Load and cleaning data "
   ]
  },
  {
   "cell_type": "code",
   "execution_count": null,
   "id": "2b0f79bb",
   "metadata": {},
   "outputs": [],
   "source": [
    "data=pd.read_csv('CC-GENERAL.csv')\n",
    "data.drop(['CUST_ID'],axis=1,inplace=True)\n",
    "data.fillna(data.mean(),inplace=True)\n",
    "print(data.head())"
   ]
  }
 ],
 "metadata": {
  "kernelspec": {
   "display_name": "Python 3",
   "language": "python",
   "name": "python3"
  },
  "language_info": {
   "codemirror_mode": {
    "name": "ipython",
    "version": 3
   },
   "file_extension": ".py",
   "mimetype": "text/x-python",
   "name": "python",
   "nbconvert_exporter": "python",
   "pygments_lexer": "ipython3",
   "version": "3.13.5"
  }
 },
 "nbformat": 4,
 "nbformat_minor": 5
}
