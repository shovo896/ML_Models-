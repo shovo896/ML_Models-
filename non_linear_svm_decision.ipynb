{
 "cells": [
  {
   "cell_type": "code",
   "execution_count": 2,
   "id": "c06cd7b1",
   "metadata": {},
   "outputs": [],
   "source": [
    "import numpy as np\n",
    "import matplotlib.pyplot as plt \n",
    "from sklearn.datasets import make_circles\n",
    "from sklearn.svm import SVC\n",
    "from sklearn.model_selection import train_test_split\n",
    "from sklearn.metrics import accuracy_score"
   ]
  },
  {
   "cell_type": "markdown",
   "id": "c01a68aa",
   "metadata": {},
   "source": [
    "creating and splitting the dataset "
   ]
  },
  {
   "cell_type": "code",
   "execution_count": 3,
   "id": "f2e4345c",
   "metadata": {},
   "outputs": [],
   "source": [
    "X,y=make_circles(n_samples=500,factor=0.5,noise=0.05,random_state=42)\n",
    "X_train,X_test,y_train,y_test=train_test_split(X,y,test_size=0.3,random_state=42)"
   ]
  },
  {
   "cell_type": "markdown",
   "id": "cd14e2ad",
   "metadata": {},
   "source": [
    "creating and training Non-Linear SVM model "
   ]
  },
  {
   "cell_type": "code",
   "execution_count": null,
   "id": "1e2d044e",
   "metadata": {},
   "outputs": [],
   "source": [
    "svm="
   ]
  }
 ],
 "metadata": {
  "kernelspec": {
   "display_name": "Python 3",
   "language": "python",
   "name": "python3"
  },
  "language_info": {
   "codemirror_mode": {
    "name": "ipython",
    "version": 3
   },
   "file_extension": ".py",
   "mimetype": "text/x-python",
   "name": "python",
   "nbconvert_exporter": "python",
   "pygments_lexer": "ipython3",
   "version": "3.13.7"
  }
 },
 "nbformat": 4,
 "nbformat_minor": 5
}
