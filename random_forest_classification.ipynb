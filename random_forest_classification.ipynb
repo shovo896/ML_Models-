{
 "cells": [
  {
   "cell_type": "markdown",
   "id": "376e5ee9",
   "metadata": {},
   "source": [
    "classification task "
   ]
  }
 ],
 "metadata": {
  "language_info": {
   "name": "python"
  }
 },
 "nbformat": 4,
 "nbformat_minor": 5
}
