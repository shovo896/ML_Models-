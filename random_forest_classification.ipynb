{
 "cells": [
  {
   "cell_type": "markdown",
   "id": "376e5ee9",
   "metadata": {},
   "source": [
    "classification task "
   ]
  },
  {
   "cell_type": "code",
   "execution_count": null,
   "id": "f8bd5c25",
   "metadata": {},
   "outputs": [],
   "source": [
    "import pandas as pd \n",
    "from  sklearn.model_selection import train_test_split\n",
    "from sklearn.ensemble import RandomForestClassifier\n",
    "from  sklearn.metrics import accuracy_score,classification_report\n",
    "import warnings\n",
    "\n",
    "warnings.filterwarnings('ignore')\n",
    "titanic_data=pd.read_csv('titanic.csv')\n",
    "titanic_data=titanic_data.dropna(subset=['Survived'])\n",
    "X=titanic_data[['Pclass','Sex','Age','SibSp','Parch','Fare']]\n",
    "y=titanic_data['Survived']\n",
    "X.loc[:,'Sex']=X['Sex'].map({'female':0,'male':1})\n",
    "X.loc[:,'Age'].fillna(X['Age'].median(),inplace=True)\n",
    "\n",
    "X_train,X_test,y_train,y_test=train_test_split(X,y,test_size=0.2,random_state=42)\n",
    "rf_classifier=RandomForestClassifier(n_estimators=100,random_state=42)\n",
    "rf_classifier.fit(X_train,y_train)\n",
    "y_pred=rf_classifier.predict(X_test)\n",
    "accuracy=accuracy_score(y_test,y_pred)\n",
    "classification_rep=classification_report(y_test,y_pred)"
   ]
  }
 ],
 "metadata": {
  "kernelspec": {
   "display_name": "Python 3",
   "language": "python",
   "name": "python3"
  },
  "language_info": {
   "codemirror_mode": {
    "name": "ipython",
    "version": 3
   },
   "file_extension": ".py",
   "mimetype": "text/x-python",
   "name": "python",
   "nbconvert_exporter": "python",
   "pygments_lexer": "ipython3",
   "version": "3.13.7"
  }
 },
 "nbformat": 4,
 "nbformat_minor": 5
}
