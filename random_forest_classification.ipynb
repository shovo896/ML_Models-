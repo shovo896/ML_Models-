{
 "cells": [
  {
   "cell_type": "markdown",
   "id": "376e5ee9",
   "metadata": {},
   "source": [
    "classification task "
   ]
  },
  {
   "cell_type": "code",
   "execution_count": 1,
   "id": "f8bd5c25",
   "metadata": {},
   "outputs": [],
   "source": [
    "import pandas as pd \n",
    "from  sklearn.model_selection import train_test_split\n",
    "from sklearn.ensemble import RandomForestClassifier\n",
    "from  sklearn.metrics import accuracy_score,classification_report\n",
    "import warnings"
   ]
  }
 ],
 "metadata": {
  "kernelspec": {
   "display_name": "Python 3",
   "language": "python",
   "name": "python3"
  },
  "language_info": {
   "codemirror_mode": {
    "name": "ipython",
    "version": 3
   },
   "file_extension": ".py",
   "mimetype": "text/x-python",
   "name": "python",
   "nbconvert_exporter": "python",
   "pygments_lexer": "ipython3",
   "version": "3.13.7"
  }
 },
 "nbformat": 4,
 "nbformat_minor": 5
}
