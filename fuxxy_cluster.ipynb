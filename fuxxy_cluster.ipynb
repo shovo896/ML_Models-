{
 "cells": [
  {
   "cell_type": "code",
   "execution_count": 1,
   "id": "ea8f91b0",
   "metadata": {},
   "outputs": [],
   "source": [
    "import numpy as np\n",
    "import skfuzzy as fuzz \n",
    "import matplotlib.pyplot as pyplot "
   ]
  },
  {
   "cell_type": "code",
   "execution_count": 2,
   "id": "9fd448a3",
   "metadata": {},
   "outputs": [],
   "source": [
    "np.random.seed(0)\n",
    "center=0.5 \n",
    "spread=0.1 \n",
    "data=center+spread*np.random.randn(2,100)\n",
    "data=np.clip(data,0,1)"
   ]
  },
  {
   "cell_type": "code",
   "execution_count": 3,
   "id": "b5bfcdde",
   "metadata": {},
   "outputs": [],
   "source": [
    "n_clusters=3 \n",
    "m=1.7 \n",
    "error=1e-5\n",
    "maxiter=2000 "
   ]
  },
  {
   "cell_type": "code",
   "execution_count": 4,
   "id": "f41c41d5",
   "metadata": {},
   "outputs": [],
   "source": [
    "cntr,u,_,_,_,_,fpc=fuzz.cluster.cmeans(data,c=n_clusters,m=m,error=error,maxiter=maxiter,init=None)\n",
    "\n",
    "hard_clusters=np.argmax(u,axis=0)"
   ]
  }
 ],
 "metadata": {
  "kernelspec": {
   "display_name": "Python 3",
   "language": "python",
   "name": "python3"
  },
  "language_info": {
   "codemirror_mode": {
    "name": "ipython",
    "version": 3
   },
   "file_extension": ".py",
   "mimetype": "text/x-python",
   "name": "python",
   "nbconvert_exporter": "python",
   "pygments_lexer": "ipython3",
   "version": "3.13.5"
  }
 },
 "nbformat": 4,
 "nbformat_minor": 5
}
