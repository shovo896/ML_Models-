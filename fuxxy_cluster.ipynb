{
 "cells": [
  {
   "cell_type": "code",
   "execution_count": 6,
   "id": "ea8f91b0",
   "metadata": {},
   "outputs": [],
   "source": [
    "import numpy as np\n",
    "import skfuzzy as fuzz \n",
    "import matplotlib.pyplot as plt"
   ]
  },
  {
   "cell_type": "code",
   "execution_count": 7,
   "id": "9fd448a3",
   "metadata": {},
   "outputs": [],
   "source": [
    "np.random.seed(0)\n",
    "center=0.5 \n",
    "spread=0.1 \n",
    "data=center+spread*np.random.randn(2,100)\n",
    "data=np.clip(data,0,1)"
   ]
  },
  {
   "cell_type": "code",
   "execution_count": 9,
   "id": "b5bfcdde",
   "metadata": {},
   "outputs": [],
   "source": [
    "n_clusters=3 \n",
    "m=1.7 \n",
    "error=1e-5\n",
    "maxiter=2000 "
   ]
  },
  {
   "cell_type": "code",
   "execution_count": 10,
   "id": "f41c41d5",
   "metadata": {},
   "outputs": [],
   "source": [
    "cntr,u,_,_,_,_,fpc=fuzz.cluster.cmeans(data,c=n_clusters,m=m,error=error,maxiter=maxiter,init=None)\n",
    "\n",
    "hard_clusters=np.argmax(u,axis=0)"
   ]
  },
  {
   "cell_type": "code",
   "execution_count": 12,
   "id": "e400f452",
   "metadata": {},
   "outputs": [
    {
     "name": "stdout",
     "output_type": "stream",
     "text": [
      "cluster centers:\n",
      " [[0.40427944 0.44688713]\n",
      " [0.57608357 0.43108734]\n",
      " [0.53151692 0.61555506]]\n",
      "\n",
      "Fuzzy memebership matrix:\n",
      "[[0.0753945  0.103008   0.03041289 0.09668828 0.07004986]\n",
      " [0.16579475 0.86917327 0.95209853 0.36321813 0.85265308]\n",
      " [0.75881075 0.02781873 0.01748858 0.54009359 0.07729706]]\n"
     ]
    }
   ],
   "source": [
    "print(\"cluster centers:\\n\",cntr)\n",
    "print(\"\\nFuzzy memebership matrix:\")\n",
    "print(u[:,:5])"
   ]
  },
  {
   "cell_type": "code",
   "execution_count": 13,
   "id": "9fe5452b",
   "metadata": {},
   "outputs": [
    {
     "ename": "TypeError",
     "evalue": "cannot unpack non-iterable function object",
     "output_type": "error",
     "traceback": [
      "\u001b[31m---------------------------------------------------------------------------\u001b[39m",
      "\u001b[31mTypeError\u001b[39m                                 Traceback (most recent call last)",
      "\u001b[36mCell\u001b[39m\u001b[36m \u001b[39m\u001b[32mIn[13]\u001b[39m\u001b[32m, line 1\u001b[39m\n\u001b[32m----> \u001b[39m\u001b[32m1\u001b[39m fig ,ax=plt.subplots\n",
      "\u001b[31mTypeError\u001b[39m: cannot unpack non-iterable function object"
     ]
    }
   ],
   "source": [
    "fig ,ax=plt.subplots"
   ]
  }
 ],
 "metadata": {
  "kernelspec": {
   "display_name": "Python 3",
   "language": "python",
   "name": "python3"
  },
  "language_info": {
   "codemirror_mode": {
    "name": "ipython",
    "version": 3
   },
   "file_extension": ".py",
   "mimetype": "text/x-python",
   "name": "python",
   "nbconvert_exporter": "python",
   "pygments_lexer": "ipython3",
   "version": "3.13.5"
  }
 },
 "nbformat": 4,
 "nbformat_minor": 5
}
