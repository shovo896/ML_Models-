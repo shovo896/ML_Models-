{
 "cells": [
  {
   "cell_type": "code",
   "execution_count": null,
   "id": "028d781a",
   "metadata": {},
   "outputs": [],
   "source": [
    "import pandas as pd \n",
    "from sklearn.datasets import fetch_california_housing\n",
    "from sklearn.model_selection import train_test_split\n",
    "from sklearn.ensemble import RandomForestRegressor\n",
    "from sklearn.ensemble import mean_squared_error,r2_score\n",
    "california_housing=fetch_california_housing()\n",
    "california_data=pd.DataFrame(california_housing.data,columns=california_housing.feature_names)\n",
    "california_data['MEDV']=california_housing.target\n",
    "\n",
    "X=california_data.drop('MEDV',axis=1)\n",
    "y=california_data('MEDV')\n",
    "X_train,X_test,y_train,y_test=train_test_split(X,y,test_size=0.2,random_state=42)\n",
    "rf_regressor=RandomForestRegressor(n_estimors=100,random_state=42)\n",
    "rf_regressor.fit(X.train,y_train)\n",
    "\n"
   ]
  }
 ],
 "metadata": {
  "language_info": {
   "name": "python"
  }
 },
 "nbformat": 4,
 "nbformat_minor": 5
}
