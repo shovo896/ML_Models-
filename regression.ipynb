{
 "cells": [
  {
   "cell_type": "code",
   "execution_count": 2,
   "id": "028d781a",
   "metadata": {},
   "outputs": [
    {
     "ename": "TypeError",
     "evalue": "'DataFrame' object is not callable",
     "output_type": "error",
     "traceback": [
      "\u001b[31m---------------------------------------------------------------------------\u001b[39m",
      "\u001b[31mTypeError\u001b[39m                                 Traceback (most recent call last)",
      "\u001b[36mCell\u001b[39m\u001b[36m \u001b[39m\u001b[32mIn[2]\u001b[39m\u001b[32m, line 11\u001b[39m\n\u001b[32m      8\u001b[39m california_data[\u001b[33m'\u001b[39m\u001b[33mMEDV\u001b[39m\u001b[33m'\u001b[39m]=california_housing.target\n\u001b[32m     10\u001b[39m X=california_data.drop(\u001b[33m'\u001b[39m\u001b[33mMEDV\u001b[39m\u001b[33m'\u001b[39m,axis=\u001b[32m1\u001b[39m)\n\u001b[32m---> \u001b[39m\u001b[32m11\u001b[39m y=\u001b[43mcalifornia_data\u001b[49m\u001b[43m(\u001b[49m\u001b[33;43m'\u001b[39;49m\u001b[33;43mMEDV\u001b[39;49m\u001b[33;43m'\u001b[39;49m\u001b[43m)\u001b[49m\n\u001b[32m     12\u001b[39m X_train,X_test,y_train,y_test=train_test_split(X,y,test_size=\u001b[32m0.2\u001b[39m,random_state=\u001b[32m42\u001b[39m)\n\u001b[32m     13\u001b[39m rf_regressor=RandomForestRegressor(n_estimors=\u001b[32m100\u001b[39m,random_state=\u001b[32m42\u001b[39m)\n",
      "\u001b[31mTypeError\u001b[39m: 'DataFrame' object is not callable"
     ]
    }
   ],
   "source": [
    "import pandas as pd \n",
    "from sklearn.datasets import fetch_california_housing\n",
    "from sklearn.model_selection import train_test_split\n",
    "from sklearn.ensemble import RandomForestRegressor\n",
    "from sklearn.metrics import mean_squared_error,r2_score\n",
    "california_housing=fetch_california_housing()\n",
    "california_data=pd.DataFrame(california_housing.data,columns=california_housing.feature_names)\n",
    "california_data['MEDV']=california_housing.target\n",
    "\n",
    "X=california_data.drop('MEDV',axis=1)\n",
    "y=california_data('MEDV')\n",
    "X_train,X_test,y_train,y_test=train_test_split(X,y,test_size=0.2,random_state=42)\n",
    "rf_regressor=RandomForestRegressor(n_estimors=100,random_state=42)\n",
    "rf_regressor.fit(X.train,y_train)\n",
    "y_pred=rf_regressor.predict(X_test)\n",
    "mse=mean_squared_error(y_test,y_pred)\n",
    "r2=r2_score(y_test,y_pred)\n",
    "\n",
    "single_data=X_test.iloc[0].values.reshape(-1,1)\n",
    "predicted_value=rf_regressor.predict(single_data)\n",
    "print(f\"Predicted value:{predicted_value[0]:.2f}\")\n",
    "print(f\"Actual value:{y_test.iloc[0]:.2f}\")\n",
    "\n",
    "print(f\"Mean squared error:{mse:.2f}\")\n",
    "print(f\"R-squared scorre:{r2:.2f}\")\n",
    "\n"
   ]
  }
 ],
 "metadata": {
  "kernelspec": {
   "display_name": "Python 3",
   "language": "python",
   "name": "python3"
  },
  "language_info": {
   "codemirror_mode": {
    "name": "ipython",
    "version": 3
   },
   "file_extension": ".py",
   "mimetype": "text/x-python",
   "name": "python",
   "nbconvert_exporter": "python",
   "pygments_lexer": "ipython3",
   "version": "3.13.7"
  }
 },
 "nbformat": 4,
 "nbformat_minor": 5
}
