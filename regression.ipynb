{
 "cells": [
  {
   "cell_type": "code",
   "execution_count": null,
   "id": "028d781a",
   "metadata": {},
   "outputs": [],
   "source": [
    "import pandas as pd \n",
    "from sklearn.datasets import fetch_california_housing\n",
    "from sklearn.model_selection import train_test_split\n",
    "from sklearn.ensemble import mean_squared_error,r2_scope\n",
    "california_housing=fetch_california_housing()\n",
    "california_data=pd.DataFrame(california_housing.data,columns=california_housing.feature_names)\n",
    "california_data['MEDV']=california_housing.target\n",
    "\n",
    "X=california_data.drop('MEDV',axis=1)\n",
    "y=california_data('MEDV')\n",
    "\n"
   ]
  }
 ],
 "metadata": {
  "language_info": {
   "name": "python"
  }
 },
 "nbformat": 4,
 "nbformat_minor": 5
}
