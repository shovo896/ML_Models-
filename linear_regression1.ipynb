{
 "cells": [
  {
   "cell_type": "code",
   "execution_count": 1,
   "id": "f6998363",
   "metadata": {},
   "outputs": [],
   "source": [
    "import pandas as pd \n",
    "import numpy as np \n",
    "import matplotlib.pyplot as plt \n",
    "import matplotlib.axes as ax \n",
    "from matplotlib.animation import FuncAnimation "
   ]
  },
  {
   "cell_type": "code",
   "execution_count": 5,
   "id": "09801789",
   "metadata": {},
   "outputs": [],
   "source": [
    "url = 'https://media.geeksforgeeks.org/wp-content/uploads/20240320114716/data_for_lr.csv'\n",
    "data = pd.read_csv(url)\n",
    "\n",
    "data = data.dropna()\n",
    "\n",
    "train_input = np.array(data.x[0:500]).reshape(500, 1)\n",
    "train_output = np.array(data.y[0:500]).reshape(500, 1)\n",
    "\n",
    "test_input = np.array(data.x[500:700]).reshape(199, 1)\n",
    "test_output = np.array(data.y[500:700]).reshape(199, 1)"
   ]
  },
  {
   "cell_type": "code",
   "execution_count": 12,
   "id": "a26a1fc2",
   "metadata": {},
   "outputs": [],
   "source": [
    "class LinearRegression: \n",
    "    def __init__(self): \n",
    "        self.parameters = {} \n",
    "        self.loss = []\n",
    "\n",
    "    def forward_propagation(self, train_input): \n",
    "        m = self.parameters['m'] \n",
    "        c = self.parameters['c'] \n",
    "        predictions = np.multiply(m, train_input) + c \n",
    "        return predictions \n",
    "\n",
    "    def cost_function(self, predictions, train_output): \n",
    "        cost = np.mean((train_output - predictions) ** 2) \n",
    "        return cost \n",
    "\n",
    "    def backward_propagation(self, train_input, train_output, predictions): \n",
    "        derivatives = {} \n",
    "        df = (predictions - train_output) \n",
    "        dm = 2 * np.mean(np.multiply(train_input, df)) \n",
    "        dc = 2 * np.mean(df) \n",
    "        derivatives['dm'] = dm \n",
    "        derivatives['dc'] = dc \n",
    "        return derivatives \n",
    "\n",
    "    def update_parameters(self, derivatives, learning_rate): \n",
    "        self.parameters['m'] -= learning_rate * derivatives['dm'] \n",
    "        self.parameters['c'] -= learning_rate * derivatives['dc'] \n",
    "\n",
    "    def train(self, train_input, train_output, learning_rate=0.01, iters=50): \n",
    "        # Initialize parameters randomly\n",
    "        self.parameters['m'] = -np.random.uniform(0, 1)\n",
    "        self.parameters['c'] = -np.random.uniform(0, 1)\n",
    "\n",
    "        self.loss = [] \n",
    "\n",
    "        fig, ax = plt.subplots() \n",
    "        x_vals = np.linspace(min(train_input), max(train_input), 100) \n",
    "        line, = ax.plot(x_vals, self.parameters['m'] * x_vals + self.parameters['c'], \n",
    "                        color='red', label='Regression Line') \n",
    "        ax.scatter(train_input, train_output, marker='o', color='green', label='Training Data') \n",
    "\n",
    "        ax.set_ylim(0, max(train_output) + 1) \n",
    "\n",
    "        def update(frame): \n",
    "            predictions = self.forward_propagation(train_input) \n",
    "            cost = self.cost_function(predictions, train_output) \n",
    "            derivatives = self.backward_propagation(train_input, train_output, predictions) \n",
    "            self.update_parameters(derivatives, learning_rate) \n",
    "            line.set_ydata(self.parameters['m'] * x_vals + self.parameters['c']) \n",
    "            self.loss.append(cost) \n",
    "            print(f\"Iteration = {frame+1}, Loss = {cost:.4f}\") \n",
    "            return line, \n",
    "\n",
    "        ani = FuncAnimation(fig, update, frames=iters, interval=200, blit=True) \n",
    "\n",
    "        plt.xlabel('Input') \n",
    "        plt.ylabel('Output') \n",
    "        plt.title('Linear Regression') \n",
    "        plt.legend() \n",
    "        plt.show() \n",
    "\n",
    "        return self.parameters, self.loss\n"
   ]
  },
  {
   "cell_type": "code",
   "execution_count": 14,
   "id": "b7df9c1d",
   "metadata": {},
   "outputs": [
    {
     "ename": "NameError",
     "evalue": "name 'train_input' is not defined",
     "output_type": "error",
     "traceback": [
      "\u001b[31m---------------------------------------------------------------------------\u001b[39m",
      "\u001b[31mNameError\u001b[39m                                 Traceback (most recent call last)",
      "\u001b[36mCell\u001b[39m\u001b[36m \u001b[39m\u001b[32mIn[14]\u001b[39m\u001b[32m, line 2\u001b[39m\n\u001b[32m      1\u001b[39m linear_reg = LinearRegression()\n\u001b[32m----> \u001b[39m\u001b[32m2\u001b[39m parameters, loss = linear_reg.train(\u001b[43mtrain_input\u001b[49m, train_output, learning_rate=\u001b[32m0.0001\u001b[39m, iters=\u001b[32m20\u001b[39m)\n",
      "\u001b[31mNameError\u001b[39m: name 'train_input' is not defined"
     ]
    }
   ],
   "source": [
    "linear_reg = LinearRegression()\n",
    "parameters, loss = linear_reg.train(train_input, train_output, learning_rate=0.0001, iters=20)\n"
   ]
  },
  {
   "cell_type": "code",
   "execution_count": null,
   "id": "e2488198",
   "metadata": {},
   "outputs": [],
   "source": []
  }
 ],
 "metadata": {
  "kernelspec": {
   "display_name": "Python 3",
   "language": "python",
   "name": "python3"
  },
  "language_info": {
   "codemirror_mode": {
    "name": "ipython",
    "version": 3
   },
   "file_extension": ".py",
   "mimetype": "text/x-python",
   "name": "python",
   "nbconvert_exporter": "python",
   "pygments_lexer": "ipython3",
   "version": "3.13.7"
  }
 },
 "nbformat": 4,
 "nbformat_minor": 5
}
