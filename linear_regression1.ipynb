{
 "cells": [
  {
   "cell_type": "code",
   "execution_count": 1,
   "id": "f6998363",
   "metadata": {},
   "outputs": [],
   "source": [
    "import pandas as pd \n",
    "import numpy as np \n",
    "import matplotlib.pyplot as plt \n",
    "import matplotlib.axes as ax \n",
    "from matplotlib.animation import FuncAnimation "
   ]
  },
  {
   "cell_type": "code",
   "execution_count": 3,
   "id": "09801789",
   "metadata": {},
   "outputs": [
    {
     "ename": "AttributeError",
     "evalue": "'Series' object has no attribute 'reshape'",
     "output_type": "error",
     "traceback": [
      "\u001b[31m---------------------------------------------------------------------------\u001b[39m",
      "\u001b[31mAttributeError\u001b[39m                            Traceback (most recent call last)",
      "\u001b[32m~\\AppData\\Local\\Temp\\ipykernel_17328\\3676444707.py\u001b[39m in \u001b[36m?\u001b[39m\u001b[34m()\u001b[39m\n\u001b[32m      3\u001b[39m train_input=np.array(data.x[\u001b[32m0\u001b[39m:\u001b[32m500\u001b[39m]).reshape(\u001b[32m500\u001b[39m,\u001b[32m1\u001b[39m)\n\u001b[32m      4\u001b[39m train_output=np.array(data.y[\u001b[32m0\u001b[39m:\u001b[32m500\u001b[39m]).reshape(\u001b[32m500\u001b[39m,\u001b[32m1\u001b[39m)\n\u001b[32m      5\u001b[39m \n\u001b[32m      6\u001b[39m test_input=np.array(data.x[\u001b[32m500\u001b[39m:\u001b[32m700\u001b[39m]).reshape(\u001b[32m199\u001b[39m,\u001b[32m1\u001b[39m)\n\u001b[32m----> \u001b[39m\u001b[32m7\u001b[39m test_output=np.array(data.y[\u001b[32m500\u001b[39m:\u001b[32m700\u001b[39m].reshape(\u001b[32m199\u001b[39m,\u001b[32m1\u001b[39m))\n",
      "\u001b[32m~\\AppData\\Local\\Packages\\PythonSoftwareFoundation.Python.3.13_qbz5n2kfra8p0\\LocalCache\\local-packages\\Python313\\site-packages\\pandas\\core\\generic.py\u001b[39m in \u001b[36m?\u001b[39m\u001b[34m(self, name)\u001b[39m\n\u001b[32m   6314\u001b[39m             \u001b[38;5;28;01mand\u001b[39;00m name \u001b[38;5;28;01mnot\u001b[39;00m \u001b[38;5;28;01min\u001b[39;00m self._accessors\n\u001b[32m   6315\u001b[39m             \u001b[38;5;28;01mand\u001b[39;00m self._info_axis._can_hold_identifiers_and_holds_name(name)\n\u001b[32m   6316\u001b[39m         ):\n\u001b[32m   6317\u001b[39m             \u001b[38;5;28;01mreturn\u001b[39;00m self[name]\n\u001b[32m-> \u001b[39m\u001b[32m6318\u001b[39m         \u001b[38;5;28;01mreturn\u001b[39;00m object.__getattribute__(self, name)\n",
      "\u001b[31mAttributeError\u001b[39m: 'Series' object has no attribute 'reshape'"
     ]
    }
   ],
   "source": [
    "data=pd.read_csv('data_for_lr (3).csv')\n",
    "data=data.dropna()\n",
    "train_input=np.array(data.x[0:500]).reshape(500,1)\n",
    "train_output=np.array(data.y[0:500]).reshape(500,1)\n",
    "\n",
    "test_input=np.array(data.x[500:700]).reshape(199,1)\n",
    "test_output=np.array(data.y[500:700].reshape(199,1))"
   ]
  },
  {
   "cell_type": "code",
   "execution_count": null,
   "id": "9ac15c82",
   "metadata": {},
   "outputs": [],
   "source": []
  }
 ],
 "metadata": {
  "kernelspec": {
   "display_name": "Python 3",
   "language": "python",
   "name": "python3"
  },
  "language_info": {
   "codemirror_mode": {
    "name": "ipython",
    "version": 3
   },
   "file_extension": ".py",
   "mimetype": "text/x-python",
   "name": "python",
   "nbconvert_exporter": "python",
   "pygments_lexer": "ipython3",
   "version": "3.13.7"
  }
 },
 "nbformat": 4,
 "nbformat_minor": 5
}
