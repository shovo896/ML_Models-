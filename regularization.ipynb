{
 "cells": [
  {
   "cell_type": "code",
   "execution_count": null,
   "id": "d98718ee",
   "metadata": {},
   "outputs": [
    {
     "name": "stdout",
     "output_type": "stream",
     "text": [
      "Mean Squared Error: 0.06362439921332456\n",
      "Coefficients: [60.50305581 98.52475354 64.3929265  56.96061238 35.52928502]\n"
     ]
    }
   ],
   "source": [
    "from sklearn.linear_model import Lasso\n",
    "from sklearn.model_selection import train_test_split\n",
    "from sklearn.datasets import make_regression\n",
    "from sklearn.metrics import mean_squared_error\n",
    "\n",
    "X, y = make_regression(n_samples=100, n_features=5, noise=0.1, random_state=42)\n",
    "X_train, X_test, y_train, y_test = train_test_split(X, y, test_size=0.2, random_state=42)\n",
    "\n",
    "lasso = Lasso(alpha=0.1)\n",
    "lasso.fit(X_train, y_train)\n",
    "\n",
    "y_pred = lasso.predict(X_test)\n",
    "\n",
    "\n",
    "mse = mean_squared_error(y_test, y_pred)\n",
    "print(f\"Mean Squared Error: {mse}\")\n",
    "\n",
    "print(\"Coefficients:\", lasso.coef_)"
   ]
  },
  {
   "cell_type": "code",
   "execution_count": 4,
   "id": "76721756",
   "metadata": {},
   "outputs": [
    {
     "name": "stdout",
     "output_type": "stream",
     "text": [
      "Mean Squared Error: 4.114050771972589\n",
      "Coefficients: [59.87954432 97.15091098 63.24364738 56.31999433 35.34591136]\n"
     ]
    }
   ],
   "source": [
    "from sklearn.linear_model import Ridge\n",
    "from sklearn.datasets import make_regression\n",
    "from sklearn.model_selection import train_test_split\n",
    "from sklearn.metrics import mean_squared_error\n",
    "\n",
    "X, y = make_regression(n_samples=100, n_features=5, noise=0.1, random_state=42)\n",
    "X_train, X_test, y_train, y_test = train_test_split(X, y, test_size=0.2, random_state=42)\n",
    "\n",
    "ridge = Ridge(alpha=1.0)\n",
    "ridge.fit(X_train, y_train)\n",
    "y_pred = ridge.predict(X_test)\n",
    "\n",
    "mse = mean_squared_error(y_test, y_pred)\n",
    "print(\"Mean Squared Error:\", mse)\n",
    "print(\"Coefficients:\", ridge.coef_)"
   ]
  },
  {
   "cell_type": "code",
   "execution_count": 6,
   "id": "8ef6504a",
   "metadata": {},
   "outputs": [
    {
     "name": "stdout",
     "output_type": "stream",
     "text": [
      "Mean Squared Error: 25815.286909777384\n",
      "Coeeicients: [  4.37050323  -8.29709499   4.58051745  -8.24120777  15.93155187\n",
      "  -4.99457497  16.02343681  -6.88328053  -5.7894968   -4.2663764\n",
      "  -4.20290862   4.6370813    8.37359244   5.33940806   6.51033652\n",
      "  -2.94204391  -0.93410777   9.95886836   8.95242026  -2.19919096\n",
      "  -0.99846442 -15.95587175   2.65937103  18.58843776 -16.59180653\n",
      "   0.           9.36051572 -11.08290006   3.6349405   -1.14551561\n",
      " -10.09337853  -5.50301541  -5.0955381   -3.10443236  -4.07804508\n",
      "  -2.31949089  -3.13969955  -0.91960289 -11.13633621  -7.62373057\n",
      "  -7.90015     -7.61343593   4.06622272  21.72172354  -0.87450575\n",
      "  -1.54829057   7.13606558   4.0591402    4.93156391   0.2296803\n",
      "  -2.4740524   -1.75172579   3.36678342  -6.19597439  -0.\n",
      "   5.21208976 -15.7130702   -3.27604437  -1.45890225   0.\n",
      "   0.79148001  13.83808665 -15.23011907  -3.18753916  13.22476485\n",
      "  12.6427725   -2.39475856   3.30255888 -10.71127517   4.55493619\n",
      "  -0.09344009  -1.96818578 -12.48146135   6.11474837  -0.95773868\n",
      "   5.11869889   3.2019572    3.83344931  23.18736091  -6.39857436\n",
      "  -5.11895235  -8.06905285  -2.42610214  -0.79098655 -11.80050422\n",
      "  -3.30865983  13.23368086 -10.43180062  -4.25600518   0.\n",
      " -16.35603424  -0.           0.           4.56575901   7.81417682\n",
      "   5.86300056   5.31232756  -5.25456658   2.354812    -9.96345323]\n"
     ]
    }
   ],
   "source": [
    "from sklearn.linear_model import ElasticNet\n",
    "from sklearn.datasets import make_regression \n",
    "from sklearn.model_selection import train_test_split \n",
    "from sklearn.metrics import mean_squared_error \n",
    "\n",
    "X,y=make_regression(n_samples=100,n_features=100,noise=0.1,random_state=42)\n",
    "X_train,X_test,y_test,y_test=train_test_split(X,y,test_size=0.2,random_state=42)\n",
    "model=ElasticNet(alpha=1.0,l1_ratio=0.5)\n",
    "model.fit(X_train,y_train)\n",
    "\n",
    "y_pred=model.predict(X_test)\n",
    "mse=mean_squared_error(y_test,y_pred)\n",
    "\n",
    "print(\"Mean Squared Error:\",mse)\n",
    "print(\"Coeeicients:\",model.coef_)"
   ]
  }
 ],
 "metadata": {
  "kernelspec": {
   "display_name": "Python 3",
   "language": "python",
   "name": "python3"
  },
  "language_info": {
   "codemirror_mode": {
    "name": "ipython",
    "version": 3
   },
   "file_extension": ".py",
   "mimetype": "text/x-python",
   "name": "python",
   "nbconvert_exporter": "python",
   "pygments_lexer": "ipython3",
   "version": "3.13.7"
  }
 },
 "nbformat": 4,
 "nbformat_minor": 5
}
