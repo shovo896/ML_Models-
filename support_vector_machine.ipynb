{
 "cells": [
  {
   "cell_type": "code",
   "execution_count": null,
   "id": "29639598",
   "metadata": {},
   "outputs": [],
   "source": [
    "from sklearn.datasets  import load_breast_cancer\n",
    "import matplotlib as plt \n",
    "from sklearn.inspection import DecisionBoundaryDisplay\n",
    "from sklearn.svm import svc \n",
    "\n",
    "cancer=load_breast_cancer\n",
    "X=cancer.data[:,2]\n",
    "y=cancer.target"
   ]
  }
 ],
 "metadata": {
  "language_info": {
   "name": "python"
  }
 },
 "nbformat": 4,
 "nbformat_minor": 5
}
