{
 "cells": [
  {
   "cell_type": "code",
   "execution_count": 1,
   "id": "2678651d",
   "metadata": {},
   "outputs": [],
   "source": [
    "import numpy as np \n",
    "import pandas as pd \n",
    "import matplotlib.pyplot as plt \n",
    "from sklearn.model_selection import train_test_split\n",
    "from sklearn.linear_model import LinearRegression\n",
    "from sklearn.datasets import fetch_california_housing"
   ]
  },
  {
   "cell_type": "markdown",
   "id": "d8073d57",
   "metadata": {},
   "source": [
    "Loading the datasets "
   ]
  },
  {
   "cell_type": "code",
   "execution_count": null,
   "id": "b2bb13e5",
   "metadata": {},
   "outputs": [],
   "source": [
    "california_housing=fetch_california_housing()\n",
    "X=pd.DataFrame(california_housing.data,\n",
    "               columns=california_housing.feature_names,\n",
    "               )\n",
    "y=pd.series(california_housing.target)\n"
   ]
  }
 ],
 "metadata": {
  "kernelspec": {
   "display_name": "Python 3",
   "language": "python",
   "name": "python3"
  },
  "language_info": {
   "codemirror_mode": {
    "name": "ipython",
    "version": 3
   },
   "file_extension": ".py",
   "mimetype": "text/x-python",
   "name": "python",
   "nbconvert_exporter": "python",
   "pygments_lexer": "ipython3",
   "version": "3.13.7"
  }
 },
 "nbformat": 4,
 "nbformat_minor": 5
}
