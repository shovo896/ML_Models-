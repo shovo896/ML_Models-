{
 "cells": [
  {
   "cell_type": "code",
   "execution_count": 2,
   "id": "0cd0289f",
   "metadata": {},
   "outputs": [],
   "source": [
    "import numpy as np \n",
    "import matplotlib.pyplot as plt\n",
    "from mpl_toolkits.mplot3d import Axes3D\n",
    "from sklearn.datasets import make_swiss_roll\n",
    "from sklearn.manifold import LocallyLinearEmbedding\n",
    "from sklearn.decomposition import PCA"
   ]
  },
  {
   "cell_type": "markdown",
   "id": "da97e96a",
   "metadata": {},
   "source": [
    "Generating datasets "
   ]
  },
  {
   "cell_type": "code",
   "execution_count": 3,
   "id": "c507c252",
   "metadata": {},
   "outputs": [],
   "source": [
    "X,swiss_roll=make_swiss_roll(n_samples=1500,noise=0.05)"
   ]
  }
 ],
 "metadata": {
  "kernelspec": {
   "display_name": "Python 3",
   "language": "python",
   "name": "python3"
  },
  "language_info": {
   "codemirror_mode": {
    "name": "ipython",
    "version": 3
   },
   "file_extension": ".py",
   "mimetype": "text/x-python",
   "name": "python",
   "nbconvert_exporter": "python",
   "pygments_lexer": "ipython3",
   "version": "3.13.5"
  }
 },
 "nbformat": 4,
 "nbformat_minor": 5
}
