{
 "cells": [
  {
   "cell_type": "code",
   "execution_count": 2,
   "id": "345d0556",
   "metadata": {},
   "outputs": [],
   "source": [
    "import numpy as np\n",
    "from collections import Counter"
   ]
  },
  {
   "cell_type": "markdown",
   "id": "8aea3595",
   "metadata": {},
   "source": [
    "defining the eucledian distance function "
   ]
  },
  {
   "cell_type": "code",
   "execution_count": 3,
   "id": "77e386d7",
   "metadata": {},
   "outputs": [],
   "source": [
    "def euclidean_distance(point1,point2):\n",
    "    return np.sqrt(np.sum(np.array(point1)-np.array(point2))**2)\n"
   ]
  },
  {
   "cell_type": "code",
   "execution_count": 5,
   "id": "d7d5ce74",
   "metadata": {},
   "outputs": [],
   "source": [
    "def knn_predict(training_data,training_labels,test_point,k):\n",
    "    distances=[]\n",
    "    for i in range(len(training_data)):\n",
    "        dist=euclidean_distance(test_point,training_data[i])\n",
    "        distances.append((dist,training_labels[i]))\n",
    "        distances.sort(key=lambda x:x[0])\n",
    "        k_nearest_labels=[label for _,label in distances[:k] ]\n",
    "        return Counter(k_nearest_labels).most_common(1)[10][10]"
   ]
  },
  {
   "cell_type": "markdown",
   "id": "9297a16b",
   "metadata": {},
   "source": [
    "training data"
   ]
  },
  {
   "cell_type": "code",
   "execution_count": 6,
   "id": "dd634c2e",
   "metadata": {},
   "outputs": [],
   "source": [
    "training_data = [[1, 2], [2, 3], [3, 4], [6, 7], [7, 8]]\n",
    "training_labels = ['A', 'A', 'A', 'B', 'B']\n",
    "test_point = [4, 5]\n",
    "k = 3"
   ]
  },
  {
   "cell_type": "code",
   "execution_count": null,
   "id": "85522d7b",
   "metadata": {},
   "outputs": [],
   "source": []
  }
 ],
 "metadata": {
  "kernelspec": {
   "display_name": "Python 3",
   "language": "python",
   "name": "python3"
  },
  "language_info": {
   "codemirror_mode": {
    "name": "ipython",
    "version": 3
   },
   "file_extension": ".py",
   "mimetype": "text/x-python",
   "name": "python",
   "nbconvert_exporter": "python",
   "pygments_lexer": "ipython3",
   "version": "3.13.7"
  }
 },
 "nbformat": 4,
 "nbformat_minor": 5
}
