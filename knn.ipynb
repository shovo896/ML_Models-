{
 "cells": [
  {
   "cell_type": "code",
   "execution_count": 2,
   "id": "345d0556",
   "metadata": {},
   "outputs": [],
   "source": [
    "import numpy as np\n",
    "from collections import Counter"
   ]
  },
  {
   "cell_type": "markdown",
   "id": "8aea3595",
   "metadata": {},
   "source": [
    "defining the eucledian distance function "
   ]
  },
  {
   "cell_type": "code",
   "execution_count": 3,
   "id": "77e386d7",
   "metadata": {},
   "outputs": [],
   "source": [
    "def euclidean_distance(point1,point2):\n",
    "    return np.sqrt(np.sum(np.array(point1)-np.array(point2))**2)\n"
   ]
  }
 ],
 "metadata": {
  "kernelspec": {
   "display_name": "Python 3",
   "language": "python",
   "name": "python3"
  },
  "language_info": {
   "codemirror_mode": {
    "name": "ipython",
    "version": 3
   },
   "file_extension": ".py",
   "mimetype": "text/x-python",
   "name": "python",
   "nbconvert_exporter": "python",
   "pygments_lexer": "ipython3",
   "version": "3.13.7"
  }
 },
 "nbformat": 4,
 "nbformat_minor": 5
}
