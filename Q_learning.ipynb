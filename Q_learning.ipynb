{
 "cells": [
  {
   "cell_type": "code",
   "execution_count": 4,
   "id": "9b7437d0",
   "metadata": {},
   "outputs": [],
   "source": [
    "import numpy as np \n",
    "n_states=16 \n",
    "n_actions=4 \n",
    "goal_state=15 \n",
    "\n",
    "Q_table=np.zeros((n_states,n_actions))"
   ]
  },
  {
   "cell_type": "markdown",
   "id": "5e6ed483",
   "metadata": {},
   "source": [
    "set hypermeters "
   ]
  },
  {
   "cell_type": "code",
   "execution_count": 5,
   "id": "beb7ea49",
   "metadata": {},
   "outputs": [],
   "source": [
    "learning_rate=0.8 \n",
    "discount_factor=0.95 \n",
    "exploration_prob=0.2 \n",
    "epochs=1000"
   ]
  },
  {
   "cell_type": "markdown",
   "id": "8282d7c3",
   "metadata": {},
   "source": [
    "implement the q learning algorithm"
   ]
  },
  {
   "cell_type": "code",
   "execution_count": 7,
   "id": "76de40d1",
   "metadata": {},
   "outputs": [],
   "source": [
    "for epoch in range(epochs):\n",
    "    current_state = np.random.randint(0, n_states)  \n",
    "    while current_state != goal_state:\n",
    "        if np.random.rand() < exploration_prob:\n",
    "            action = np.random.randint(0, n_actions)  \n",
    "        else:\n",
    "            action = np.argmax(Q_table[current_state])  \n",
    "\n",
    "        next_state = (current_state + 1) % n_states\n",
    "\n",
    "        reward = 1 if next_state == goal_state else 0\n",
    "\n",
    "        Q_table[current_state, action] += learning_rate * \\\n",
    "            (reward + discount_factor *\n",
    "             np.max(Q_table[next_state]) - Q_table[current_state, action])\n",
    "\n",
    "        current_state = next_state"
   ]
  },
  {
   "cell_type": "markdown",
   "id": "abd71a63",
   "metadata": {},
   "source": [
    "output the learned q table "
   ]
  },
  {
   "cell_type": "code",
   "execution_count": 8,
   "id": "c5dd49a1",
   "metadata": {},
   "outputs": [
    {
     "ename": "AttributeError",
     "evalue": "module 'matplotlib' has no attribute 'figure'",
     "output_type": "error",
     "traceback": [
      "\u001b[31m---------------------------------------------------------------------------\u001b[39m",
      "\u001b[31mAttributeError\u001b[39m                            Traceback (most recent call last)",
      "\u001b[36mCell\u001b[39m\u001b[36m \u001b[39m\u001b[32mIn[8]\u001b[39m\u001b[32m, line 7\u001b[39m\n\u001b[32m      4\u001b[39m q_values_grid=np.max(Q_table,axis=\u001b[32m1\u001b[39m).reshape((\u001b[32m4\u001b[39m,\u001b[32m4\u001b[39m))\n\u001b[32m      6\u001b[39m \u001b[38;5;66;03m#plot the grid \u001b[39;00m\n\u001b[32m----> \u001b[39m\u001b[32m7\u001b[39m \u001b[43mplt\u001b[49m\u001b[43m.\u001b[49m\u001b[43mfigure\u001b[49m(figsize=(\u001b[32m6\u001b[39m,\u001b[32m6\u001b[39m))\n",
      "\u001b[36mFile \u001b[39m\u001b[32m~\\AppData\\Roaming\\Python\\Python313\\site-packages\\matplotlib\\_api\\__init__.py:218\u001b[39m, in \u001b[36mcaching_module_getattr.<locals>.__getattr__\u001b[39m\u001b[34m(name)\u001b[39m\n\u001b[32m    216\u001b[39m \u001b[38;5;28;01mif\u001b[39;00m name \u001b[38;5;129;01min\u001b[39;00m props:\n\u001b[32m    217\u001b[39m     \u001b[38;5;28;01mreturn\u001b[39;00m props[name].\u001b[34m__get__\u001b[39m(instance)\n\u001b[32m--> \u001b[39m\u001b[32m218\u001b[39m \u001b[38;5;28;01mraise\u001b[39;00m \u001b[38;5;167;01mAttributeError\u001b[39;00m(\n\u001b[32m    219\u001b[39m     \u001b[33mf\u001b[39m\u001b[33m\"\u001b[39m\u001b[33mmodule \u001b[39m\u001b[38;5;132;01m{\u001b[39;00m\u001b[38;5;28mcls\u001b[39m.\u001b[34m__module__\u001b[39m\u001b[38;5;132;01m!r}\u001b[39;00m\u001b[33m has no attribute \u001b[39m\u001b[38;5;132;01m{\u001b[39;00mname\u001b[38;5;132;01m!r}\u001b[39;00m\u001b[33m\"\u001b[39m)\n",
      "\u001b[31mAttributeError\u001b[39m: module 'matplotlib' has no attribute 'figure'"
     ]
    }
   ],
   "source": [
    "import matplotlib as plt\n",
    "\n",
    "\n",
    "q_values_grid=np.max(Q_table,axis=1).reshape((4,4))\n",
    "\n",
    "#plot the grid \n",
    "plt.figure(figsize=(6,6))"
   ]
  }
 ],
 "metadata": {
  "kernelspec": {
   "display_name": "Python 3",
   "language": "python",
   "name": "python3"
  },
  "language_info": {
   "codemirror_mode": {
    "name": "ipython",
    "version": 3
   },
   "file_extension": ".py",
   "mimetype": "text/x-python",
   "name": "python",
   "nbconvert_exporter": "python",
   "pygments_lexer": "ipython3",
   "version": "3.13.6"
  }
 },
 "nbformat": 4,
 "nbformat_minor": 5
}
