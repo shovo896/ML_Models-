{
 "cells": [
  {
   "cell_type": "code",
   "execution_count": 2,
   "id": "9b7437d0",
   "metadata": {},
   "outputs": [],
   "source": [
    "import numpy as np \n",
    "n_states=16 \n",
    "n_actions=4 \n",
    "goal_state=15 \n",
    "\n",
    "Q_table=np.zeros((n_states,n_actions))"
   ]
  },
  {
   "cell_type": "markdown",
   "id": "5e6ed483",
   "metadata": {},
   "source": [
    "set hypermeters "
   ]
  },
  {
   "cell_type": "code",
   "execution_count": null,
   "id": "beb7ea49",
   "metadata": {},
   "outputs": [],
   "source": [
    "learning_rate=0.8 \n",
    "discount_factor=0.95 \n",
    "exploration_prob=0.2 \n",
    "epochs=1000"
   ]
  }
 ],
 "metadata": {
  "kernelspec": {
   "display_name": "Python 3",
   "language": "python",
   "name": "python3"
  },
  "language_info": {
   "codemirror_mode": {
    "name": "ipython",
    "version": 3
   },
   "file_extension": ".py",
   "mimetype": "text/x-python",
   "name": "python",
   "nbconvert_exporter": "python",
   "pygments_lexer": "ipython3",
   "version": "3.13.6"
  }
 },
 "nbformat": 4,
 "nbformat_minor": 5
}
