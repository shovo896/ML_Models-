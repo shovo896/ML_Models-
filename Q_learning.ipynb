{
 "cells": [
  {
   "cell_type": "code",
   "execution_count": 4,
   "id": "9b7437d0",
   "metadata": {},
   "outputs": [],
   "source": [
    "import numpy as np \n",
    "n_states=16 \n",
    "n_actions=4 \n",
    "goal_state=15 \n",
    "\n",
    "Q_table=np.zeros((n_states,n_actions))"
   ]
  },
  {
   "cell_type": "markdown",
   "id": "5e6ed483",
   "metadata": {},
   "source": [
    "set hypermeters "
   ]
  },
  {
   "cell_type": "code",
   "execution_count": 5,
   "id": "beb7ea49",
   "metadata": {},
   "outputs": [],
   "source": [
    "learning_rate=0.8 \n",
    "discount_factor=0.95 \n",
    "exploration_prob=0.2 \n",
    "epochs=1000"
   ]
  },
  {
   "cell_type": "markdown",
   "id": "8282d7c3",
   "metadata": {},
   "source": [
    "implement the q learning algorithm"
   ]
  },
  {
   "cell_type": "code",
   "execution_count": 7,
   "id": "76de40d1",
   "metadata": {},
   "outputs": [],
   "source": [
    "for epoch in range(epochs):\n",
    "    current_state = np.random.randint(0, n_states)  \n",
    "    while current_state != goal_state:\n",
    "        if np.random.rand() < exploration_prob:\n",
    "            action = np.random.randint(0, n_actions)  \n",
    "        else:\n",
    "            action = np.argmax(Q_table[current_state])  \n",
    "\n",
    "        next_state = (current_state + 1) % n_states\n",
    "\n",
    "        reward = 1 if next_state == goal_state else 0\n",
    "\n",
    "        Q_table[current_state, action] += learning_rate * \\\n",
    "            (reward + discount_factor *\n",
    "             np.max(Q_table[next_state]) - Q_table[current_state, action])\n",
    "\n",
    "        current_state = next_state"
   ]
  }
 ],
 "metadata": {
  "kernelspec": {
   "display_name": "Python 3",
   "language": "python",
   "name": "python3"
  },
  "language_info": {
   "codemirror_mode": {
    "name": "ipython",
    "version": 3
   },
   "file_extension": ".py",
   "mimetype": "text/x-python",
   "name": "python",
   "nbconvert_exporter": "python",
   "pygments_lexer": "ipython3",
   "version": "3.13.6"
  }
 },
 "nbformat": 4,
 "nbformat_minor": 5
}
