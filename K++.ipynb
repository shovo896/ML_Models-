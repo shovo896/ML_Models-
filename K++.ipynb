{
 "cells": [
  {
   "cell_type": "code",
   "execution_count": 1,
   "id": "8285fa12",
   "metadata": {},
   "outputs": [],
   "source": [
    "import numpy as np\n",
    "import matplotlib.pyplot as plt\n",
    "\n",
    "mean_01 = np.array([0.0, 0.0])\n",
    "cov_01 = np.array([[1, 0.3], [0.3, 1]])\n",
    "dist_01 = np.random.multivariate_normal(mean_01, cov_01, 100)\n",
    "\n",
    "mean_02 = np.array([6.0, 7.0])\n",
    "cov_02 = np.array([[1.5, 0.3], [0.3, 1]])\n",
    "dist_02 = np.random.multivariate_normal(mean_02, cov_02, 100)\n",
    "\n",
    "mean_03 = np.array([7.0, -5.0])\n",
    "dist_03 = np.random.multivariate_normal(mean_03, cov_01, 100)\n",
    "\n",
    "mean_04 = np.array([2.0, -7.0])\n",
    "cov_04 = np.array([[1.2, 0.5], [0.5, 1.3]])\n",
    "dist_04 = np.random.multivariate_normal(mean_04, cov_01, 100)\n",
    "\n",
    "data = np.vstack((dist_01, dist_02, dist_03, dist_04))\n",
    "np.random.shuffle(data)"
   ]
  },
  {
   "cell_type": "code",
   "execution_count": 2,
   "id": "d0a1a7ce",
   "metadata": {},
   "outputs": [],
   "source": [
    "def plot(data,centroids):\n",
    "    plt.scatter(data[:,0],data[:,1],marker='.',color='gray',label='Data Points ')\n",
    "    plt.title(\"f'select{centroids.shape[0]}th centroid\")\n",
    "    plt.legend()\n",
    "    plt.xlim(-5,12)\n",
    "    plt.ylim(-10,25)\n",
    "    plt.show()"
   ]
  },
  {
   "cell_type": "code",
   "execution_count": 3,
   "id": "2a331a4e",
   "metadata": {},
   "outputs": [],
   "source": [
    "def distance(p1,p2):\n",
    "    return np.sqrt(np.sum((p1-p2)**2))"
   ]
  }
 ],
 "metadata": {
  "kernelspec": {
   "display_name": "Python 3",
   "language": "python",
   "name": "python3"
  },
  "language_info": {
   "codemirror_mode": {
    "name": "ipython",
    "version": 3
   },
   "file_extension": ".py",
   "mimetype": "text/x-python",
   "name": "python",
   "nbconvert_exporter": "python",
   "pygments_lexer": "ipython3",
   "version": "3.13.5"
  }
 },
 "nbformat": 4,
 "nbformat_minor": 5
}
