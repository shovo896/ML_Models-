{
 "cells": [
  {
   "cell_type": "code",
   "execution_count": 1,
   "id": "8285fa12",
   "metadata": {},
   "outputs": [],
   "source": [
    "import numpy as np\n",
    "import matplotlib.pyplot as plt\n",
    "\n",
    "mean_01 = np.array([0.0, 0.0])\n",
    "cov_01 = np.array([[1, 0.3], [0.3, 1]])\n",
    "dist_01 = np.random.multivariate_normal(mean_01, cov_01, 100)\n",
    "\n",
    "mean_02 = np.array([6.0, 7.0])\n",
    "cov_02 = np.array([[1.5, 0.3], [0.3, 1]])\n",
    "dist_02 = np.random.multivariate_normal(mean_02, cov_02, 100)\n",
    "\n",
    "mean_03 = np.array([7.0, -5.0])\n",
    "dist_03 = np.random.multivariate_normal(mean_03, cov_01, 100)\n",
    "\n",
    "mean_04 = np.array([2.0, -7.0])\n",
    "cov_04 = np.array([[1.2, 0.5], [0.5, 1.3]])\n",
    "dist_04 = np.random.multivariate_normal(mean_04, cov_01, 100)\n",
    "\n",
    "data = np.vstack((dist_01, dist_02, dist_03, dist_04))\n",
    "np.random.shuffle(data)"
   ]
  },
  {
   "cell_type": "code",
   "execution_count": 2,
   "id": "d0a1a7ce",
   "metadata": {},
   "outputs": [],
   "source": [
    "def plot(data,centroids):\n",
    "    plt.scatter(data[:,0],data[:,1],marker='.',color='gray',label='Data Points ')\n",
    "    plt.title(\"f'select{centroids.shape[0]}th centroid\")\n",
    "    plt.legend()\n",
    "    plt.xlim(-5,12)\n",
    "    plt.ylim(-10,25)\n",
    "    plt.show()"
   ]
  },
  {
   "cell_type": "code",
   "execution_count": 3,
   "id": "2a331a4e",
   "metadata": {},
   "outputs": [],
   "source": [
    "def distance(p1,p2):\n",
    "    return np.sqrt(np.sum((p1-p2)**2))"
   ]
  },
  {
   "cell_type": "code",
   "execution_count": null,
   "id": "f4f26672",
   "metadata": {},
   "outputs": [
    {
     "ename": "_IncompleteInputError",
     "evalue": "incomplete input (2955773852.py, line 9)",
     "output_type": "error",
     "traceback": [
      "  \u001b[36mCell\u001b[39m\u001b[36m \u001b[39m\u001b[32mIn[5]\u001b[39m\u001b[32m, line 9\u001b[39m\n\u001b[31m    \u001b[39m\u001b[31mfor _ in range(k-1):\u001b[39m\n                        ^\n\u001b[31m_IncompleteInputError\u001b[39m\u001b[31m:\u001b[39m incomplete input\n"
     ]
    }
   ],
   "source": [
    "import sys \n",
    "\n",
    "def initialize(data,k): \n",
    "    centroids=[]\n",
    "    centroids.append(data[np.random.randint(data.shape[0])])\n",
    "    plot(data,np.array(centroids))\n",
    "\n",
    "\n",
    "    for _ in range(k-1):\n",
    "        distances=[]\n",
    "        for point in data:\n",
    "            min_dist=min([distance(point,c)for c in centroids])\n",
    "            distances.append(min_dist)\n",
    "\n",
    "    next_centroid=data[np.argmax(distances)]\n",
    "    centroids.append(next_centroid)\n",
    "    plot(data,np.array(centroids))\n",
    "\n",
    "   return np.array(centroids)\n",
    "\n",
    "#Run installation \n",
    "centroids=initialize(data,k=4)"
   ]
  },
  {
   "cell_type": "code",
   "execution_count": null,
   "id": "7759c77e",
   "metadata": {},
   "outputs": [],
   "source": []
  }
 ],
 "metadata": {
  "kernelspec": {
   "display_name": "Python 3",
   "language": "python",
   "name": "python3"
  },
  "language_info": {
   "codemirror_mode": {
    "name": "ipython",
    "version": 3
   },
   "file_extension": ".py",
   "mimetype": "text/x-python",
   "name": "python",
   "nbconvert_exporter": "python",
   "pygments_lexer": "ipython3",
   "version": "3.13.5"
  }
 },
 "nbformat": 4,
 "nbformat_minor": 5
}
