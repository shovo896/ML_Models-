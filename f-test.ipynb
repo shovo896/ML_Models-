{
 "cells": [
  {
   "cell_type": "code",
   "execution_count": 4,
   "id": "eff2300c",
   "metadata": {},
   "outputs": [
    {
     "ename": "SyntaxError",
     "evalue": "invalid syntax (1602703091.py, line 2)",
     "output_type": "error",
     "traceback": [
      "  \u001b[36mCell\u001b[39m\u001b[36m \u001b[39m\u001b[32mIn[4]\u001b[39m\u001b[32m, line 2\u001b[39m\n\u001b[31m    \u001b[39m\u001b[31mIRkernel::installspec(user = TRUE)\u001b[39m\n             ^\n\u001b[31mSyntaxError\u001b[39m\u001b[31m:\u001b[39m invalid syntax\n"
     ]
    }
   ],
   "source": [
    "install.packages(\"IRkernel\")\n",
    "IRkernel::installspec(user = TRUE)\n"
   ]
  },
  {
   "cell_type": "code",
   "execution_count": 5,
   "id": "496a52cd",
   "metadata": {},
   "outputs": [
    {
     "name": "stdout",
     "output_type": "stream",
     "text": [
      "Hello from VS Code!\n"
     ]
    }
   ],
   "source": [
    "print(\"Hello from VS Code!\")\n"
   ]
  },
  {
   "cell_type": "code",
   "execution_count": 6,
   "id": "33c68b4d",
   "metadata": {},
   "outputs": [
    {
     "ename": "NameError",
     "evalue": "name 'numbers' is not defined",
     "output_type": "error",
     "traceback": [
      "\u001b[31m---------------------------------------------------------------------------\u001b[39m",
      "\u001b[31mNameError\u001b[39m                                 Traceback (most recent call last)",
      "\u001b[36mCell\u001b[39m\u001b[36m \u001b[39m\u001b[32mIn[6]\u001b[39m\u001b[32m, line 2\u001b[39m\n\u001b[32m      1\u001b[39m \u001b[38;5;66;03m# Create a vector of numbers\u001b[39;00m\n\u001b[32m----> \u001b[39m\u001b[32m2\u001b[39m \u001b[43mnumbers\u001b[49m <- c(\u001b[32m12\u001b[39m, \u001b[32m45\u001b[39m, \u001b[32m67\u001b[39m, \u001b[32m23\u001b[39m, \u001b[32m89\u001b[39m, \u001b[32m34\u001b[39m, \u001b[32m56\u001b[39m, \u001b[32m78\u001b[39m, \u001b[32m90\u001b[39m, \u001b[32m11\u001b[39m)\n\u001b[32m      4\u001b[39m \u001b[38;5;66;03m# Calculate statistics\u001b[39;00m\n\u001b[32m      5\u001b[39m mean_value <- mean(numbers)\n",
      "\u001b[31mNameError\u001b[39m: name 'numbers' is not defined"
     ]
    }
   ],
   "source": [
    "# Create a vector of numbers\n",
    "numbers <- c(12, 45, 67, 23, 89, 34, 56, 78, 90, 11)\n",
    "\n",
    "# Calculate statistics\n",
    "mean_value <- mean(numbers)\n",
    "median_value <- median(numbers)\n",
    "sd_value <- sd(numbers)\n",
    "\n",
    "# Print results\n",
    "print(paste(\"Mean:\", mean_value))\n",
    "print(paste(\"Median:\", median_value))\n",
    "print(paste(\"Standard Deviation:\", sd_value))\n",
    "\n",
    "# Plot histogram\n",
    "hist(numbers, col=\"skyblue\", main=\"Histogram of Numbers\", xlab=\"Values\", ylab=\"Frequency\")\n"
   ]
  }
 ],
 "metadata": {
  "kernelspec": {
   "display_name": "Python 3",
   "language": "python",
   "name": "python3"
  },
  "language_info": {
   "codemirror_mode": {
    "name": "ipython",
    "version": 3
   },
   "file_extension": ".py",
   "mimetype": "text/x-python",
   "name": "python",
   "nbconvert_exporter": "python",
   "pygments_lexer": "ipython3",
   "version": "3.13.7"
  }
 },
 "nbformat": 4,
 "nbformat_minor": 5
}
