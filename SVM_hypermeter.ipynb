{
 "cells": [
  {
   "cell_type": "code",
   "execution_count": 2,
   "id": "63227279",
   "metadata": {},
   "outputs": [],
   "source": [
    "import pandas as pd \n",
    "import numpy as np \n",
    "from sklearn.metrics import classification_report,confusion_matrix\n",
    "from sklearn.datasets import load_breast_cancer\n",
    "from sklearn.svm import SVC"
   ]
  },
  {
   "cell_type": "markdown",
   "id": "7f5e267b",
   "metadata": {},
   "source": [
    "Loading the printing the dataset"
   ]
  },
  {
   "cell_type": "code",
   "execution_count": 4,
   "id": "885a4370",
   "metadata": {},
   "outputs": [
    {
     "ename": "SyntaxError",
     "evalue": "unmatched ')' (393019850.py, line 4)",
     "output_type": "error",
     "traceback": [
      "  \u001b[36mCell\u001b[39m\u001b[36m \u001b[39m\u001b[32mIn[4]\u001b[39m\u001b[32m, line 4\u001b[39m\n\u001b[31m    \u001b[39m\u001b[31mdf_target=pd.DataFrame(cancer['target'],columns=['Cancer']) )\u001b[39m\n                                                                ^\n\u001b[31mSyntaxError\u001b[39m\u001b[31m:\u001b[39m unmatched ')'\n"
     ]
    }
   ],
   "source": [
    "cancer=load_breast_cancer()\n",
    "df_feat=pd.DataFrame(cancer['data'],\n",
    "                    columns=cancer['feature_names'])\n",
    "df_target=pd.DataFrame(cancer['target'],columns=['Cancer']) )\n",
    "print('Feature variable :')\n",
    "print(df_feat.info())\n",
    "print(\"Dataframe looks like:\")\n",
    "print(df_feat.head())\n"
   ]
  }
 ],
 "metadata": {
  "kernelspec": {
   "display_name": "Python 3",
   "language": "python",
   "name": "python3"
  },
  "language_info": {
   "codemirror_mode": {
    "name": "ipython",
    "version": 3
   },
   "file_extension": ".py",
   "mimetype": "text/x-python",
   "name": "python",
   "nbconvert_exporter": "python",
   "pygments_lexer": "ipython3",
   "version": "3.13.7"
  }
 },
 "nbformat": 4,
 "nbformat_minor": 5
}
