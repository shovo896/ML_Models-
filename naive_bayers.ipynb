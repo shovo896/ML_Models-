{
 "cells": [
  {
   "cell_type": "code",
   "execution_count": 1,
   "id": "b54e0539",
   "metadata": {},
   "outputs": [],
   "source": [
    "import pandas as pd\n",
    "from sklearn.feature_extraction.text import CountVectorizer\n",
    "from sklearn.model_selection import train_test_split\n",
    "from sklearn.naive_bayes import MultinomialNB\n",
    "from sklearn.metrics import accuracy_score"
   ]
  },
  {
   "cell_type": "markdown",
   "id": "c9e9c0c8",
   "metadata": {},
   "source": [
    "creating a dataset"
   ]
  },
  {
   "cell_type": "code",
   "execution_count": 2,
   "id": "294151ed",
   "metadata": {},
   "outputs": [],
   "source": [
    "data = {\n",
    "    'text': [\n",
    "        'Free money now',\n",
    "        'Call now to claim your prize',\n",
    "        'Meet me at the park',\n",
    "        'Let’s catch up later',\n",
    "        'Win a new car today!',\n",
    "        'Lunch plans?',\n",
    "        'Congratulations! You won a lottery',\n",
    "        'Can you send me the report?',\n",
    "        'Exclusive offer for you',\n",
    "        'Are you coming to the meeting?'\n",
    "    ],\n",
    "    'label': ['spam', 'spam', 'not spam', 'not spam', 'spam', 'not spam', 'spam', 'not spam', 'spam', 'not spam']\n",
    "}\n",
    "\n",
    "df = pd.DataFrame(data)"
   ]
  },
  {
   "cell_type": "markdown",
   "id": "d3452933",
   "metadata": {},
   "source": [
    "The labels (spam and not spam) are mapped to numerical values where spam becomes 1 and not spam becomes 0. This is necessary for the classifier, as it works with numerical data."
   ]
  },
  {
   "cell_type": "code",
   "execution_count": 3,
   "id": "960c17f3",
   "metadata": {},
   "outputs": [],
   "source": [
    "df['label']=df['label'].map({'spam':1,'not spam':0})"
   ]
  },
  {
   "cell_type": "markdown",
   "id": "61958af1",
   "metadata": {},
   "source": [
    "spliting of the data"
   ]
  },
  {
   "cell_type": "code",
   "execution_count": 4,
   "id": "c8aa337c",
   "metadata": {},
   "outputs": [],
   "source": [
    "X=df['text']\n",
    "y=df['label']\n",
    "X_train,X_train,y_train,y_test=train_test_split(X,y,test_size=0.3,random_state=42)"
   ]
  }
 ],
 "metadata": {
  "kernelspec": {
   "display_name": "Python 3",
   "language": "python",
   "name": "python3"
  },
  "language_info": {
   "codemirror_mode": {
    "name": "ipython",
    "version": 3
   },
   "file_extension": ".py",
   "mimetype": "text/x-python",
   "name": "python",
   "nbconvert_exporter": "python",
   "pygments_lexer": "ipython3",
   "version": "3.13.7"
  }
 },
 "nbformat": 4,
 "nbformat_minor": 5
}
