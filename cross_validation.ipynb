{
 "cells": [
  {
   "cell_type": "code",
   "execution_count": 2,
   "id": "8db30e4c",
   "metadata": {},
   "outputs": [],
   "source": [
    "from sklearn.model_selection import cross_val_score, KFold\n",
    "from sklearn.svm import SVC\n",
    "from sklearn.datasets import load_iris\n"
   ]
  },
  {
   "cell_type": "code",
   "execution_count": 3,
   "id": "4c9e3e36",
   "metadata": {},
   "outputs": [],
   "source": [
    "iris=load_iris()\n",
    "X,y=iris.data,iris.target"
   ]
  },
  {
   "cell_type": "code",
   "execution_count": 4,
   "id": "d49ff42e",
   "metadata": {},
   "outputs": [],
   "source": [
    "svm_classifier=SVC(kernel='linear')"
   ]
  },
  {
   "cell_type": "code",
   "execution_count": 5,
   "id": "8a710559",
   "metadata": {},
   "outputs": [],
   "source": [
    "num_folds=5\n",
    "kf=KFold(n_splits=num_folds,shuffle=True,random_state=42)"
   ]
  },
  {
   "cell_type": "code",
   "execution_count": 6,
   "id": "1c3e138f",
   "metadata": {},
   "outputs": [],
   "source": [
    "cross_val_results=cross_val_score(svm_classifier,X,y,cv=kf)"
   ]
  },
  {
   "cell_type": "code",
   "execution_count": 7,
   "id": "9ae0cdd9",
   "metadata": {},
   "outputs": [
    {
     "name": "stdout",
     "output_type": "stream",
     "text": [
      "Cross-validation Results(accuracy):\n",
      "Fold1:100.00%\n",
      "Fold2:100.00%\n",
      "Fold3:96.67%\n",
      "Fold4:93.33%\n",
      "Fold5:96.67%\n",
      "Mean Accuracy:97.33\n"
     ]
    }
   ],
   "source": [
    "print(\"Cross-validation Results(accuracy):\")\n",
    "for i , result in enumerate(cross_val_results,1):\n",
    "    print(f\"Fold{i}:{result*100:.2f}%\")\n",
    "print(f'Mean Accuracy:{cross_val_results.mean()*100:.2f}')"
   ]
  }
 ],
 "metadata": {
  "kernelspec": {
   "display_name": "Python 3",
   "language": "python",
   "name": "python3"
  },
  "language_info": {
   "codemirror_mode": {
    "name": "ipython",
    "version": 3
   },
   "file_extension": ".py",
   "mimetype": "text/x-python",
   "name": "python",
   "nbconvert_exporter": "python",
   "pygments_lexer": "ipython3",
   "version": "3.13.7"
  }
 },
 "nbformat": 4,
 "nbformat_minor": 5
}
