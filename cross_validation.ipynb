{
 "cells": [
  {
   "cell_type": "code",
   "execution_count": 2,
   "id": "8db30e4c",
   "metadata": {},
   "outputs": [],
   "source": [
    "from sklearn.model_selection import cross_val_score, KFold\n",
    "from sklearn.svm import SVC\n",
    "from sklearn.datasets import load_iris\n"
   ]
  },
  {
   "cell_type": "code",
   "execution_count": 3,
   "id": "4c9e3e36",
   "metadata": {},
   "outputs": [],
   "source": [
    "iris=load_iris()\n",
    "X,y=iris.data,iris.target"
   ]
  },
  {
   "cell_type": "code",
   "execution_count": 4,
   "id": "d49ff42e",
   "metadata": {},
   "outputs": [],
   "source": [
    "svm_classifier=SVC(kernel='linear')"
   ]
  }
 ],
 "metadata": {
  "kernelspec": {
   "display_name": "Python 3",
   "language": "python",
   "name": "python3"
  },
  "language_info": {
   "codemirror_mode": {
    "name": "ipython",
    "version": 3
   },
   "file_extension": ".py",
   "mimetype": "text/x-python",
   "name": "python",
   "nbconvert_exporter": "python",
   "pygments_lexer": "ipython3",
   "version": "3.13.7"
  }
 },
 "nbformat": 4,
 "nbformat_minor": 5
}
