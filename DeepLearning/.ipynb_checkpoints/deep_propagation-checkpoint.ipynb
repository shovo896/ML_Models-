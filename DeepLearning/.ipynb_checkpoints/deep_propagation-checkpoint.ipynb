{
 "cells": [
  {
   "cell_type": "code",
   "execution_count": 2,
   "id": "00c4ed70",
   "metadata": {},
   "outputs": [],
   "source": [
    "import numpy as np \n",
    "class NeuralNetwork : \n",
    "       def __init__(self,input_size,hidden_size,output_size):\n",
    "              self.input_size=input_size\n",
    "              self.hidden_size=hidden_size\n",
    "              self.output_size=output_size\n",
    "              self.weights_input_hidden=np.random.randn(self.input_size,self.hidden_size)\n",
    "              self.weights_hidden_output=np.random.randn(self.hidden_size,self.output_size)\n",
    "\n",
    "              self.bias_hidden=np.zeros((1,self.hidden_size))\n",
    "              self.bias_output=np.zeros((1,self.output_size))\n",
    "       def sigmoid(self,x):\n",
    "              return 1 / (np.exp(-x))\n",
    "       def sigmoid_derivate(self,x):\n",
    "              return x*(1-x)\n"
   ]
  },
  {
   "cell_type": "markdown",
   "id": "062b71eb",
   "metadata": {},
   "source": [
    "defining feedforwarding network"
   ]
  },
  {
   "cell_type": "code",
   "execution_count": 1,
   "id": "ec6bdc6d",
   "metadata": {},
   "outputs": [],
   "source": [
    "def feedforward(self,x):\n",
    "       self.hidden_activation=np.dot(x,self.weights_input_hidden)+self.bias_hidden\n",
    "       self.hidden_output=self.sigmoid(self.hidden_activation)\n",
    "       self.output_activation=np.dot(self.hidden_output,self.weights_hidden_output)+self.bias_output\n",
    "       self.predicted_output = self.sigmoid(self.output_activation)\n",
    "       return self.predicted_output"
   ]
  },
  {
   "cell_type": "markdown",
   "id": "b5a2521d",
   "metadata": {},
   "source": [
    "defining backward propagnation"
   ]
  },
  {
   "cell_type": "code",
   "execution_count": 3,
   "id": "f79885ff",
   "metadata": {},
   "outputs": [],
   "source": [
    "def backward(self, x, y, learning_rate):\n",
    "    # Calculate output error\n",
    "    output_error = y - self.predicted_output\n",
    "    output_delta = output_error * self.sigmoid_derivative(self.predicted_output)\n",
    "\n",
    "    # Calculate hidden layer error\n",
    "    hidden_error = np.dot(output_delta, self.weights_hidden_output.T)\n",
    "    hidden_delta = hidden_error * self.sigmoid_derivative(self.hidden_output)\n",
    "\n",
    "    # Update weights and biases (note the '-' instead of '+')\n",
    "    self.weights_hidden_output -= np.dot(self.hidden_output.T, output_delta) * learning_rate\n",
    "    self.bias_output -= np.sum(output_delta, axis=0, keepdims=True) * learning_rate\n",
    "    self.weights_input_hidden -= np.dot(X.T, hidden_delta) * learning_rate\n",
    "    self.bias_hidden -= np.sum(hidden_delta, axis=0, keepdims=True) * learning_rate\n",
    "\n",
    "                "
   ]
  },
  {
   "cell_type": "markdown",
   "id": "3ec0b33f",
   "metadata": {},
   "source": [
    "training network"
   ]
  },
  {
   "cell_type": "code",
   "execution_count": 4,
   "id": "cc57e73b",
   "metadata": {},
   "outputs": [],
   "source": [
    "def train(self,x,y,epochs,learning_rate):\n",
    "       for epoch in range(epochs):\n",
    "              output=self.fareforward(x)\n",
    "              self.backward(x,y,learning_rate)\n",
    "              if epoch %4000==0 :\n",
    "                     loss=np.mean(np.square(y-output))\n",
    "                     print(f\"Epoch{epoch},Loss{loss}\")"
   ]
  },
  {
   "cell_type": "markdown",
   "id": "c2980885",
   "metadata": {},
   "source": [
    "test neural networks "
   ]
  },
  {
   "cell_type": "code",
   "execution_count": 7,
   "id": "63588d76",
   "metadata": {},
   "outputs": [
    {
     "ename": "AttributeError",
     "evalue": "'NeuralNetwork' object has no attribute 'train'",
     "output_type": "error",
     "traceback": [
      "\u001b[31m---------------------------------------------------------------------------\u001b[39m",
      "\u001b[31mAttributeError\u001b[39m                            Traceback (most recent call last)",
      "\u001b[36mCell\u001b[39m\u001b[36m \u001b[39m\u001b[32mIn[7]\u001b[39m\u001b[32m, line 12\u001b[39m\n\u001b[32m      6\u001b[39m y = np.array([[\u001b[32m0\u001b[39m],\n\u001b[32m      7\u001b[39m               [\u001b[32m1\u001b[39m],\n\u001b[32m      8\u001b[39m               [\u001b[32m1\u001b[39m],\n\u001b[32m      9\u001b[39m               [\u001b[32m0\u001b[39m]])\n\u001b[32m     11\u001b[39m nn = NeuralNetwork(input_size=\u001b[32m2\u001b[39m, hidden_size=\u001b[32m4\u001b[39m, output_size=\u001b[32m1\u001b[39m)\n\u001b[32m---> \u001b[39m\u001b[32m12\u001b[39m \u001b[43mnn\u001b[49m\u001b[43m.\u001b[49m\u001b[43mtrain\u001b[49m(X, y, epochs=\u001b[32m10000\u001b[39m, learning_rate=\u001b[32m0.1\u001b[39m)\n\u001b[32m     14\u001b[39m output = nn.feedforward(X)\n\u001b[32m     15\u001b[39m \u001b[38;5;28mprint\u001b[39m(\u001b[33m\"\u001b[39m\u001b[33mPredictions after training:\u001b[39m\u001b[33m\"\u001b[39m)\n",
      "\u001b[31mAttributeError\u001b[39m: 'NeuralNetwork' object has no attribute 'train'"
     ]
    }
   ],
   "source": [
    "X = np.array([[0, 0],\n",
    "              [0, 1],\n",
    "              [1, 0],\n",
    "              [1, 1]])\n",
    "\n",
    "y = np.array([[0],\n",
    "              [1],\n",
    "              [1],\n",
    "              [0]])\n",
    "\n",
    "nn = NeuralNetwork(input_size=2, hidden_size=4, output_size=1)\n",
    "nn.train(X, y, epochs=10000, learning_rate=0.1)\n",
    "\n",
    "output = nn.feedforward(X)\n",
    "print(\"Predictions after training:\")\n",
    "print(output)\n"
   ]
  },
  {
   "cell_type": "code",
   "execution_count": 8,
   "id": "e653b406",
   "metadata": {},
   "outputs": [],
   "source": [
    "import numpy as np\n",
    "\n",
    "class NeuralNetwork:\n",
    "    def __init__(self, input_size, hidden_size, output_size):\n",
    "        self.weights_input_hidden = np.random.uniform(-1, 1, (input_size, hidden_size))\n",
    "        self.weights_hidden_output = np.random.uniform(-1, 1, (hidden_size, output_size))\n",
    "        self.bias_hidden = np.zeros((1, hidden_size))\n",
    "        self.bias_output = np.zeros((1, output_size))\n",
    "\n",
    "    def sigmoid(self, x):\n",
    "        return 1 / (1 + np.exp(-x))\n",
    "    \n",
    "    def sigmoid_derivative(self, x):\n",
    "        return x * (1 - x)\n",
    "    \n",
    "    def feedforward(self, X):\n",
    "        self.hidden_input = np.dot(X, self.weights_input_hidden) + self.bias_hidden\n",
    "        self.hidden_output = self.sigmoid(self.hidden_input)\n",
    "        self.final_input = np.dot(self.hidden_output, self.weights_hidden_output) + self.bias_output\n",
    "        self.predicted_output = self.sigmoid(self.final_input)\n",
    "        return self.predicted_output\n",
    "    \n",
    "    def backward(self, X, y, learning_rate):\n",
    "        output_error = y - self.predicted_output\n",
    "        output_delta = output_error * self.sigmoid_derivative(self.predicted_output)\n",
    "\n",
    "        hidden_error = np.dot(output_delta, self.weights_hidden_output.T)\n",
    "        hidden_delta = hidden_error * self.sigmoid_derivative(self.hidden_output)\n",
    "\n",
    "        self.weights_hidden_output -= np.dot(self.hidden_output.T, output_delta) * learning_rate\n",
    "        self.bias_output -= np.sum(output_delta, axis=0, keepdims=True) * learning_rate\n",
    "        self.weights_input_hidden -= np.dot(X.T, hidden_delta) * learning_rate\n",
    "        self.bias_hidden -= np.sum(hidden_delta, axis=0, keepdims=True) * learning_rate\n",
    "\n",
    "    def train(self, X, y, epochs, learning_rate):\n",
    "        for _ in range(epochs):\n",
    "            self.feedforward(X)\n",
    "            self.backward(X, y, learning_rate)\n"
   ]
  },
  {
   "cell_type": "code",
   "execution_count": 9,
   "id": "bd268d31",
   "metadata": {},
   "outputs": [
    {
     "name": "stdout",
     "output_type": "stream",
     "text": [
      "Predictions after training:\n",
      "[[0.99977619]\n",
      " [0.99978107]\n",
      " [0.99992486]\n",
      " [0.99992995]]\n"
     ]
    }
   ],
   "source": [
    "X = np.array([[0, 0],\n",
    "              [0, 1],\n",
    "              [1, 0],\n",
    "              [1, 1]])\n",
    "\n",
    "y = np.array([[0],\n",
    "              [1],\n",
    "              [1],\n",
    "              [0]])\n",
    "\n",
    "nn = NeuralNetwork(input_size=2, hidden_size=4, output_size=1)\n",
    "nn.train(X, y, epochs=10000, learning_rate=0.1)\n",
    "\n",
    "output = nn.feedforward(X)\n",
    "print(\"Predictions after training:\")\n",
    "print(output)\n"
   ]
  }
 ],
 "metadata": {
  "kernelspec": {
   "display_name": "Python 3 (ipykernel)",
   "language": "python",
   "name": "python3"
  },
  "language_info": {
   "codemirror_mode": {
    "name": "ipython",
    "version": 3
   },
   "file_extension": ".py",
   "mimetype": "text/x-python",
   "name": "python",
   "nbconvert_exporter": "python",
   "pygments_lexer": "ipython3",
   "version": "3.12.0"
  }
 },
 "nbformat": 4,
 "nbformat_minor": 5
}
