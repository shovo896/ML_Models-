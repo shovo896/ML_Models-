{
 "cells": [
  {
   "cell_type": "code",
   "execution_count": 4,
   "id": "de66f221",
   "metadata": {},
   "outputs": [],
   "source": [
    "import tensorflow as tf \n",
    "from sklearn.datasets import make_classification\n",
    "from sklearn.model_selection import train_test_split\n",
    "from sklearn.preprocessing import StandardScaler "
   ]
  },
  {
   "cell_type": "markdown",
   "id": "2c64eeed",
   "metadata": {},
   "source": [
    "create and split a dataset "
   ]
  },
  {
   "cell_type": "code",
   "execution_count": 5,
   "id": "6e00a8b9",
   "metadata": {},
   "outputs": [],
   "source": [
    "X,y=make_classification(n_samples=1000,n_features=2,n_informative=2,n_redundant=0,n_repeated=0,n_classes=2,random_state=42)\n",
    "X_train,X_test,y_train,y_test=train_test_split(X,y,test_size=0.2,random_state=42)"
   ]
  },
  {
   "cell_type": "markdown",
   "id": "92a38ada",
   "metadata": {},
   "source": [
    "standardize the dataset "
   ]
  },
  {
   "cell_type": "code",
   "execution_count": 6,
   "id": "2e10db0c",
   "metadata": {},
   "outputs": [],
   "source": [
    "scaler=StandardScaler()\n",
    "X_train=scaler.fit_transform(X_train)\n",
    "X_test=scaler.transform(X_test)"
   ]
  },
  {
   "cell_type": "markdown",
   "id": "c990583c",
   "metadata": {},
   "source": [
    "building a neural network "
   ]
  },
  {
   "cell_type": "code",
   "execution_count": 8,
   "id": "9360c8c0",
   "metadata": {},
   "outputs": [],
   "source": [
    "model=tf.keras.Sequential([tf.keras.layers.Dense(1,activation='sigmoid',input_shape=(2,))])"
   ]
  }
 ],
 "metadata": {
  "kernelspec": {
   "display_name": "Python 3",
   "language": "python",
   "name": "python3"
  },
  "language_info": {
   "codemirror_mode": {
    "name": "ipython",
    "version": 3
   },
   "file_extension": ".py",
   "mimetype": "text/x-python",
   "name": "python",
   "nbconvert_exporter": "python",
   "pygments_lexer": "ipython3",
   "version": "3.13.6"
  }
 },
 "nbformat": 4,
 "nbformat_minor": 5
}
