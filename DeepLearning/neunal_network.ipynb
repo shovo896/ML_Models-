{
 "cells": [
  {
   "cell_type": "code",
   "execution_count": 1,
   "id": "236e93fb",
   "metadata": {},
   "outputs": [],
   "source": [
    "import numpy as np \n",
    "import pandas as pd \n",
    "from tensorflow.keras.models import Sequential \n",
    "from tensorflow.keras.layers import Dense "
   ]
  },
  {
   "cell_type": "code",
   "execution_count": 3,
   "id": "c9a17944",
   "metadata": {},
   "outputs": [],
   "source": [
    "data = {\n",
    "    'feature1': [0.1, 0.2, 0.3, 0.4, 0.5],\n",
    "    'feature2': [0.5, 0.4, 0.3, 0.2, 0.1],\n",
    "    'label': [0, 0, 1, 1, 1]\n",
    "}\n",
    "\n",
    "df = pd.DataFrame(data)\n",
    "X=df[['feature1','feature2']].values\n",
    "y=df['label'].values"
   ]
  }
 ],
 "metadata": {
  "kernelspec": {
   "display_name": "Python 3",
   "language": "python",
   "name": "python3"
  },
  "language_info": {
   "codemirror_mode": {
    "name": "ipython",
    "version": 3
   },
   "file_extension": ".py",
   "mimetype": "text/x-python",
   "name": "python",
   "nbconvert_exporter": "python",
   "pygments_lexer": "ipython3",
   "version": "3.13.6"
  }
 },
 "nbformat": 4,
 "nbformat_minor": 5
}
