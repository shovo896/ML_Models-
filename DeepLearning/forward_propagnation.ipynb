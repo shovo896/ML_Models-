{
 "cells": [
  {
   "cell_type": "code",
   "execution_count": 4,
   "id": "51af1d2e",
   "metadata": {},
   "outputs": [],
   "source": [
    "import numpy as np \n",
    "import pandas as pd "
   ]
  },
  {
   "cell_type": "code",
   "execution_count": 5,
   "id": "2db1687f",
   "metadata": {},
   "outputs": [],
   "source": [
    "data = {'cgpa': [8.5, 9.2, 7.8], 'profile_score': [85, 92, 78], 'lpa': [10, 12, 8]}\n",
    "df = pd.DataFrame(data)\n",
    "X = df[['cgpa', 'profile_score']].values"
   ]
  },
  {
   "cell_type": "markdown",
   "id": "8c141a57",
   "metadata": {},
   "source": [
    "init parameters "
   ]
  },
  {
   "cell_type": "code",
   "execution_count": 6,
   "id": "44d5ca86",
   "metadata": {},
   "outputs": [],
   "source": [
    "def initialize_parameters():\n",
    "       np.random.seed(1)\n",
    "       w=np.random.randn(2,1)*0.01\n",
    "       b=np.zeros((1,1))\n",
    "       return w,b"
   ]
  },
  {
   "cell_type": "code",
   "execution_count": 7,
   "id": "105c4df5",
   "metadata": {},
   "outputs": [],
   "source": [
    "def forward_propagation(x,w,b):\n",
    "       z=np.dot(x,w)+b\n",
    "       a=1/(1+np.exp(-z))\n",
    "       return a"
   ]
  }
 ],
 "metadata": {
  "kernelspec": {
   "display_name": "Python 3",
   "language": "python",
   "name": "python3"
  },
  "language_info": {
   "codemirror_mode": {
    "name": "ipython",
    "version": 3
   },
   "file_extension": ".py",
   "mimetype": "text/x-python",
   "name": "python",
   "nbconvert_exporter": "python",
   "pygments_lexer": "ipython3",
   "version": "3.13.6"
  }
 },
 "nbformat": 4,
 "nbformat_minor": 5
}
