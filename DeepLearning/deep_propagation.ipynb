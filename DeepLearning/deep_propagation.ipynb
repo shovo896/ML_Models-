{
 "cells": [
  {
   "cell_type": "code",
   "execution_count": 2,
   "id": "00c4ed70",
   "metadata": {},
   "outputs": [],
   "source": [
    "import numpy as np \n",
    "class NeuralNetwork : \n",
    "       def __init__(self,input_size,hidden_size,output_size):\n",
    "              self.input_size=input_size\n",
    "              self.hidden_size=hidden_size\n",
    "              self.output_size=output_size\n",
    "              self.weights_input_hidden=np.random.randn(self.input_size,self.hidden_size)\n",
    "              self.weights_hidden_output=np.random.randn(self.hidden_size,self.output_size)\n",
    "\n",
    "              self.bias_hidden=np.zeros((1,self.hidden_size))\n",
    "              self.bias_output=np.zeros((1,self.output_size))\n",
    "       def sigmoid(self,x):\n",
    "              return 1 / (np.exp(-x))\n",
    "       def sigmoid_derivate(self,x):\n",
    "              return x*(1-x)\n"
   ]
  },
  {
   "cell_type": "markdown",
   "id": "062b71eb",
   "metadata": {},
   "source": [
    "defining feedforwarding network"
   ]
  },
  {
   "cell_type": "code",
   "execution_count": 1,
   "id": "ec6bdc6d",
   "metadata": {},
   "outputs": [],
   "source": [
    "def feedforward(self,x):\n",
    "       self.hidden_activation=np.dot(x,self.weights_input_hidden)+self.bias_hidden\n",
    "       self.hidden_output=self.sigmoid(self.hidden_activation)\n",
    "       self.output_activation=np.dot(self.hidden_output,self.weights_hidden_output)+self.bias_output\n",
    "       self.predicted_output = self.sigmoid(self.output_activation)\n",
    "       return self.predicted_output"
   ]
  }
 ],
 "metadata": {
  "kernelspec": {
   "display_name": "Python 3",
   "language": "python",
   "name": "python3"
  },
  "language_info": {
   "codemirror_mode": {
    "name": "ipython",
    "version": 3
   },
   "file_extension": ".py",
   "mimetype": "text/x-python",
   "name": "python",
   "nbconvert_exporter": "python",
   "pygments_lexer": "ipython3",
   "version": "3.13.6"
  }
 },
 "nbformat": 4,
 "nbformat_minor": 5
}
