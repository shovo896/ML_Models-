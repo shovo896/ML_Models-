{
 "cells": [
  {
   "cell_type": "code",
   "execution_count": 2,
   "id": "00c4ed70",
   "metadata": {},
   "outputs": [],
   "source": [
    "import numpy as np \n",
    "class NeuralNetwork : \n",
    "       def __init__(self,input_size,hidden_size,output_size):\n",
    "              self.input_size=input_size\n",
    "              self.hidden_size=hidden_size\n",
    "              self.output_size=output_size\n",
    "              self.weights_input_hidden=np.random.randn(self.input_size,self.hidden_size)\n",
    "              self.weights_hidden_output=np.random.randn(self.hidden_size,self.output_size)\n",
    "\n",
    "              self.bias_hidden=np.zeros((1,self.hidden_size))\n",
    "              self.bias_output=np.zeros((1,self.output_size))\n",
    "       def sigmoid(self,x):\n",
    "              return 1 / (np.exp(-x))\n",
    "       def sigmoid_derivate(self,x):\n",
    "              return x*(1-x)\n"
   ]
  },
  {
   "cell_type": "markdown",
   "id": "062b71eb",
   "metadata": {},
   "source": [
    "defining feedforwarding network"
   ]
  },
  {
   "cell_type": "code",
   "execution_count": 1,
   "id": "ec6bdc6d",
   "metadata": {},
   "outputs": [],
   "source": [
    "def feedforward(self,x):\n",
    "       self.hidden_activation=np.dot(x,self.weights_input_hidden)+self.bias_hidden\n",
    "       self.hidden_output=self.sigmoid(self.hidden_activation)\n",
    "       self.output_activation=np.dot(self.hidden_output,self.weights_hidden_output)+self.bias_output\n",
    "       self.predicted_output = self.sigmoid(self.output_activation)\n",
    "       return self.predicted_output"
   ]
  },
  {
   "cell_type": "markdown",
   "id": "b5a2521d",
   "metadata": {},
   "source": [
    "defining backward propagnation"
   ]
  },
  {
   "cell_type": "code",
   "execution_count": 3,
   "id": "f79885ff",
   "metadata": {},
   "outputs": [],
   "source": [
    "def backward(self, x, y, learning_rate):\n",
    "    # Calculate output error\n",
    "    output_error = y - self.predicted_output\n",
    "    output_delta = output_error * self.sigmoid_derivative(self.predicted_output)\n",
    "\n",
    "    # Calculate hidden layer error\n",
    "    hidden_error = np.dot(output_delta, self.weights_hidden_output.T)\n",
    "    hidden_delta = hidden_error * self.sigmoid_derivative(self.hidden_output)\n",
    "\n",
    "    # Update weights and biases (note the '-' instead of '+')\n",
    "    self.weights_hidden_output -= np.dot(self.hidden_output.T, output_delta) * learning_rate\n",
    "    self.bias_output -= np.sum(output_delta, axis=0, keepdims=True) * learning_rate\n",
    "    self.weights_input_hidden -= np.dot(X.T, hidden_delta) * learning_rate\n",
    "    self.bias_hidden -= np.sum(hidden_delta, axis=0, keepdims=True) * learning_rate\n",
    "\n",
    "                "
   ]
  },
  {
   "cell_type": "markdown",
   "id": "3ec0b33f",
   "metadata": {},
   "source": [
    "training network"
   ]
  },
  {
   "cell_type": "code",
   "execution_count": 4,
   "id": "cc57e73b",
   "metadata": {},
   "outputs": [],
   "source": [
    "def train(self,x,y,epochs,learning_rate):\n",
    "       for epoch in range(epochs):\n",
    "              output=self.fareforward(x)\n",
    "              self.backward(x,y,learning_rate)\n",
    "              if epoch %4000==0 :\n",
    "                     loss=np.mean(np.square(y-output))\n",
    "                     print(f\"Epoch{epoch},Loss{loss}\")"
   ]
  }
 ],
 "metadata": {
  "kernelspec": {
   "display_name": "Python 3",
   "language": "python",
   "name": "python3"
  },
  "language_info": {
   "codemirror_mode": {
    "name": "ipython",
    "version": 3
   },
   "file_extension": ".py",
   "mimetype": "text/x-python",
   "name": "python",
   "nbconvert_exporter": "python",
   "pygments_lexer": "ipython3",
   "version": "3.13.6"
  }
 },
 "nbformat": 4,
 "nbformat_minor": 5
}
